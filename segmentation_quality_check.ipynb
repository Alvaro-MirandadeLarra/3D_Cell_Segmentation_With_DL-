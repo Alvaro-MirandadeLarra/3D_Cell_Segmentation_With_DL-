{
 "cells": [
  {
   "cell_type": "markdown",
   "id": "fe14ab10-a247-4d33-8bdb-33a499d14e67",
   "metadata": {},
   "source": [
    "# Pytorch-3D-Unet Image Labeler & Model Scoring"
   ]
  },
  {
   "cell_type": "markdown",
   "id": "e87c1615-b391-426d-a121-36905d04541d",
   "metadata": {},
   "source": [
    "### Packages"
   ]
  },
  {
   "cell_type": "code",
   "execution_count": 1,
   "id": "c2a8e94f",
   "metadata": {
    "scrolled": true
   },
   "outputs": [
    {
     "name": "stdout",
     "output_type": "stream",
     "text": [
      "Requirement already satisfied: napari-skimage-regionprops in c:\\users\\titom\\anaconda3\\envs\\cellpose\\lib\\site-packages (0.10.1)\n",
      "Requirement already satisfied: napari-plugin-engine>=0.1.4 in c:\\users\\titom\\anaconda3\\envs\\cellpose\\lib\\site-packages (from napari-skimage-regionprops) (0.2.0)\n",
      "Requirement already satisfied: numpy in c:\\users\\titom\\anaconda3\\envs\\cellpose\\lib\\site-packages (from napari-skimage-regionprops) (1.24.4)\n",
      "Requirement already satisfied: scikit-image in c:\\users\\titom\\anaconda3\\envs\\cellpose\\lib\\site-packages (from napari-skimage-regionprops) (0.21.0)\n",
      "Requirement already satisfied: napari in c:\\users\\titom\\anaconda3\\envs\\cellpose\\lib\\site-packages (from napari-skimage-regionprops) (0.4.19.post1)\n",
      "Requirement already satisfied: pandas in c:\\users\\titom\\anaconda3\\envs\\cellpose\\lib\\site-packages (from napari-skimage-regionprops) (2.0.3)\n",
      "Requirement already satisfied: napari-tools-menu>=0.1.19 in c:\\users\\titom\\anaconda3\\envs\\cellpose\\lib\\site-packages (from napari-skimage-regionprops) (0.1.19)\n",
      "Requirement already satisfied: napari-workflows in c:\\users\\titom\\anaconda3\\envs\\cellpose\\lib\\site-packages (from napari-skimage-regionprops) (0.2.10)\n",
      "Requirement already satisfied: imageio!=2.22.1 in c:\\users\\titom\\anaconda3\\envs\\cellpose\\lib\\site-packages (from napari-skimage-regionprops) (2.34.0)\n",
      "Requirement already satisfied: Deprecated in c:\\users\\titom\\anaconda3\\envs\\cellpose\\lib\\site-packages (from napari-skimage-regionprops) (1.2.14)\n",
      "Requirement already satisfied: pillow>=8.3.2 in c:\\users\\titom\\anaconda3\\envs\\cellpose\\lib\\site-packages (from imageio!=2.22.1->napari-skimage-regionprops) (10.3.0)\n",
      "Requirement already satisfied: wrapt<2,>=1.10 in c:\\users\\titom\\anaconda3\\envs\\cellpose\\lib\\site-packages (from Deprecated->napari-skimage-regionprops) (1.16.0)\n",
      "Requirement already satisfied: appdirs>=1.4.4 in c:\\users\\titom\\anaconda3\\envs\\cellpose\\lib\\site-packages (from napari->napari-skimage-regionprops) (1.4.4)\n",
      "Requirement already satisfied: app-model<0.3.0,>=0.1.2 in c:\\users\\titom\\anaconda3\\envs\\cellpose\\lib\\site-packages (from napari->napari-skimage-regionprops) (0.2.5)\n",
      "Requirement already satisfied: cachey>=0.2.1 in c:\\users\\titom\\anaconda3\\envs\\cellpose\\lib\\site-packages (from napari->napari-skimage-regionprops) (0.2.1)\n",
      "Requirement already satisfied: certifi>=2018.1.18 in c:\\users\\titom\\anaconda3\\envs\\cellpose\\lib\\site-packages (from napari->napari-skimage-regionprops) (2023.7.22)\n",
      "Requirement already satisfied: dask[array]!=2.28.0,>=2.15.0 in c:\\users\\titom\\anaconda3\\envs\\cellpose\\lib\\site-packages (from napari->napari-skimage-regionprops) (2023.5.0)\n",
      "Requirement already satisfied: jsonschema>=3.2.0 in c:\\users\\titom\\anaconda3\\envs\\cellpose\\lib\\site-packages (from napari->napari-skimage-regionprops) (4.21.1)\n",
      "Requirement already satisfied: lazy-loader>=0.2 in c:\\users\\titom\\anaconda3\\envs\\cellpose\\lib\\site-packages (from napari->napari-skimage-regionprops) (0.3)\n",
      "Requirement already satisfied: magicgui>=0.3.6 in c:\\users\\titom\\anaconda3\\envs\\cellpose\\lib\\site-packages (from napari->napari-skimage-regionprops) (0.8.2)\n",
      "Requirement already satisfied: napari-console>=0.0.9 in c:\\users\\titom\\anaconda3\\envs\\cellpose\\lib\\site-packages (from napari->napari-skimage-regionprops) (0.0.9)\n",
      "Requirement already satisfied: napari-svg>=0.1.8 in c:\\users\\titom\\anaconda3\\envs\\cellpose\\lib\\site-packages (from napari->napari-skimage-regionprops) (0.1.10)\n",
      "Requirement already satisfied: npe2>=0.7.2 in c:\\users\\titom\\anaconda3\\envs\\cellpose\\lib\\site-packages (from napari->napari-skimage-regionprops) (0.7.4)\n",
      "Requirement already satisfied: numpydoc>=0.9.2 in c:\\users\\titom\\anaconda3\\envs\\cellpose\\lib\\site-packages (from napari->napari-skimage-regionprops) (1.6.0)\n",
      "Requirement already satisfied: pint>=0.17 in c:\\users\\titom\\anaconda3\\envs\\cellpose\\lib\\site-packages (from napari->napari-skimage-regionprops) (0.21.1)\n",
      "Requirement already satisfied: psutil>=5.0 in c:\\users\\titom\\anaconda3\\envs\\cellpose\\lib\\site-packages (from napari->napari-skimage-regionprops) (5.9.8)\n",
      "Requirement already satisfied: psygnal>=0.3.4 in c:\\users\\titom\\anaconda3\\envs\\cellpose\\lib\\site-packages (from napari->napari-skimage-regionprops) (0.10.2)\n",
      "Requirement already satisfied: pydantic>=1.9.0 in c:\\users\\titom\\anaconda3\\envs\\cellpose\\lib\\site-packages (from napari->napari-skimage-regionprops) (2.6.4)\n",
      "Requirement already satisfied: pygments>=2.6.0 in c:\\users\\titom\\anaconda3\\envs\\cellpose\\lib\\site-packages (from napari->napari-skimage-regionprops) (2.16.1)\n",
      "Requirement already satisfied: PyOpenGL>=3.1.0 in c:\\users\\titom\\anaconda3\\envs\\cellpose\\lib\\site-packages (from napari->napari-skimage-regionprops) (3.1.7)\n",
      "Requirement already satisfied: PyYAML>=5.1 in c:\\users\\titom\\anaconda3\\envs\\cellpose\\lib\\site-packages (from napari->napari-skimage-regionprops) (6.0.1)\n",
      "Requirement already satisfied: qtpy>=1.10.0 in c:\\users\\titom\\anaconda3\\envs\\cellpose\\lib\\site-packages (from napari->napari-skimage-regionprops) (2.4.0)\n",
      "Requirement already satisfied: superqt>=0.4.1 in c:\\users\\titom\\anaconda3\\envs\\cellpose\\lib\\site-packages (from napari->napari-skimage-regionprops) (0.6.2)\n",
      "Requirement already satisfied: tifffile>=2020.2.16 in c:\\users\\titom\\anaconda3\\envs\\cellpose\\lib\\site-packages (from napari->napari-skimage-regionprops) (2023.7.10)\n",
      "Requirement already satisfied: toolz>=0.10.0 in c:\\users\\titom\\anaconda3\\envs\\cellpose\\lib\\site-packages (from napari->napari-skimage-regionprops) (0.12.0)\n",
      "Requirement already satisfied: tqdm>=4.56.0 in c:\\users\\titom\\anaconda3\\envs\\cellpose\\lib\\site-packages (from napari->napari-skimage-regionprops) (4.66.1)\n",
      "Requirement already satisfied: typing-extensions>=4.2.0 in c:\\users\\titom\\anaconda3\\envs\\cellpose\\lib\\site-packages (from napari->napari-skimage-regionprops) (4.7.1)\n",
      "Requirement already satisfied: vispy<0.15,>=0.14.1 in c:\\users\\titom\\anaconda3\\envs\\cellpose\\lib\\site-packages (from napari->napari-skimage-regionprops) (0.14.2)\n",
      "Requirement already satisfied: scipy>=1.4.1 in c:\\users\\titom\\anaconda3\\envs\\cellpose\\lib\\site-packages (from napari->napari-skimage-regionprops) (1.10.1)\n",
      "Requirement already satisfied: python-dateutil>=2.8.2 in c:\\users\\titom\\anaconda3\\envs\\cellpose\\lib\\site-packages (from pandas->napari-skimage-regionprops) (2.8.2)\n",
      "Requirement already satisfied: pytz>=2020.1 in c:\\users\\titom\\anaconda3\\envs\\cellpose\\lib\\site-packages (from pandas->napari-skimage-regionprops) (2024.1)\n",
      "Requirement already satisfied: tzdata>=2022.1 in c:\\users\\titom\\anaconda3\\envs\\cellpose\\lib\\site-packages (from pandas->napari-skimage-regionprops) (2024.1)\n",
      "Requirement already satisfied: autopep8 in c:\\users\\titom\\anaconda3\\envs\\cellpose\\lib\\site-packages (from napari-workflows->napari-skimage-regionprops) (2.1.0)\n",
      "Requirement already satisfied: networkx>=2.8 in c:\\users\\titom\\anaconda3\\envs\\cellpose\\lib\\site-packages (from scikit-image->napari-skimage-regionprops) (3.1)\n",
      "Requirement already satisfied: PyWavelets>=1.1.1 in c:\\users\\titom\\anaconda3\\envs\\cellpose\\lib\\site-packages (from scikit-image->napari-skimage-regionprops) (1.4.1)\n",
      "Requirement already satisfied: packaging>=21 in c:\\users\\titom\\anaconda3\\envs\\cellpose\\lib\\site-packages (from scikit-image->napari-skimage-regionprops) (23.1)\n",
      "Requirement already satisfied: in-n-out>=0.1.5 in c:\\users\\titom\\anaconda3\\envs\\cellpose\\lib\\site-packages (from app-model<0.3.0,>=0.1.2->napari->napari-skimage-regionprops) (0.2.0)\n",
      "Requirement already satisfied: pydantic-compat>=0.1.1 in c:\\users\\titom\\anaconda3\\envs\\cellpose\\lib\\site-packages (from app-model<0.3.0,>=0.1.2->napari->napari-skimage-regionprops) (0.1.2)\n",
      "Requirement already satisfied: heapdict in c:\\users\\titom\\anaconda3\\envs\\cellpose\\lib\\site-packages (from cachey>=0.2.1->napari->napari-skimage-regionprops) (1.0.1)\n",
      "Requirement already satisfied: click>=8.0 in c:\\users\\titom\\anaconda3\\envs\\cellpose\\lib\\site-packages (from dask[array]!=2.28.0,>=2.15.0->napari->napari-skimage-regionprops) (8.1.7)\n",
      "Requirement already satisfied: cloudpickle>=1.5.0 in c:\\users\\titom\\anaconda3\\envs\\cellpose\\lib\\site-packages (from dask[array]!=2.28.0,>=2.15.0->napari->napari-skimage-regionprops) (3.0.0)\n",
      "Requirement already satisfied: fsspec>=2021.09.0 in c:\\users\\titom\\anaconda3\\envs\\cellpose\\lib\\site-packages (from dask[array]!=2.28.0,>=2.15.0->napari->napari-skimage-regionprops) (2024.3.1)\n",
      "Requirement already satisfied: partd>=1.2.0 in c:\\users\\titom\\anaconda3\\envs\\cellpose\\lib\\site-packages (from dask[array]!=2.28.0,>=2.15.0->napari->napari-skimage-regionprops) (1.4.1)\n",
      "Requirement already satisfied: importlib-metadata>=4.13.0 in c:\\users\\titom\\anaconda3\\envs\\cellpose\\lib\\site-packages (from dask[array]!=2.28.0,>=2.15.0->napari->napari-skimage-regionprops) (6.8.0)\n",
      "Requirement already satisfied: attrs>=22.2.0 in c:\\users\\titom\\anaconda3\\envs\\cellpose\\lib\\site-packages (from jsonschema>=3.2.0->napari->napari-skimage-regionprops) (23.2.0)\n",
      "Requirement already satisfied: importlib-resources>=1.4.0 in c:\\users\\titom\\anaconda3\\envs\\cellpose\\lib\\site-packages (from jsonschema>=3.2.0->napari->napari-skimage-regionprops) (6.1.1)\n",
      "Requirement already satisfied: jsonschema-specifications>=2023.03.6 in c:\\users\\titom\\anaconda3\\envs\\cellpose\\lib\\site-packages (from jsonschema>=3.2.0->napari->napari-skimage-regionprops) (2023.12.1)\n",
      "Requirement already satisfied: pkgutil-resolve-name>=1.3.10 in c:\\users\\titom\\anaconda3\\envs\\cellpose\\lib\\site-packages (from jsonschema>=3.2.0->napari->napari-skimage-regionprops) (1.3.10)\n",
      "Requirement already satisfied: referencing>=0.28.4 in c:\\users\\titom\\anaconda3\\envs\\cellpose\\lib\\site-packages (from jsonschema>=3.2.0->napari->napari-skimage-regionprops) (0.34.0)\n",
      "Requirement already satisfied: rpds-py>=0.7.1 in c:\\users\\titom\\anaconda3\\envs\\cellpose\\lib\\site-packages (from jsonschema>=3.2.0->napari->napari-skimage-regionprops) (0.18.0)\n",
      "Requirement already satisfied: docstring-parser>=0.7 in c:\\users\\titom\\anaconda3\\envs\\cellpose\\lib\\site-packages (from magicgui>=0.3.6->napari->napari-skimage-regionprops) (0.16)\n",
      "Requirement already satisfied: IPython>=7.7.0 in c:\\users\\titom\\anaconda3\\envs\\cellpose\\lib\\site-packages (from napari-console>=0.0.9->napari->napari-skimage-regionprops) (8.12.3)\n",
      "Requirement already satisfied: ipykernel>=5.2.0 in c:\\users\\titom\\anaconda3\\envs\\cellpose\\lib\\site-packages (from napari-console>=0.0.9->napari->napari-skimage-regionprops) (6.29.3)\n",
      "Requirement already satisfied: qtconsole!=4.7.6,!=5.4.2,>=4.5.1 in c:\\users\\titom\\anaconda3\\envs\\cellpose\\lib\\site-packages (from napari-console>=0.0.9->napari->napari-skimage-regionprops) (5.5.1)\n",
      "Requirement already satisfied: build>=1 in c:\\users\\titom\\anaconda3\\envs\\cellpose\\lib\\site-packages (from npe2>=0.7.2->napari->napari-skimage-regionprops) (1.1.1)\n",
      "Requirement already satisfied: rich in c:\\users\\titom\\anaconda3\\envs\\cellpose\\lib\\site-packages (from npe2>=0.7.2->napari->napari-skimage-regionprops) (13.7.1)\n",
      "Requirement already satisfied: tomli-w in c:\\users\\titom\\anaconda3\\envs\\cellpose\\lib\\site-packages (from npe2>=0.7.2->napari->napari-skimage-regionprops) (1.0.0)\n",
      "Requirement already satisfied: tomli in c:\\users\\titom\\anaconda3\\envs\\cellpose\\lib\\site-packages (from npe2>=0.7.2->napari->napari-skimage-regionprops) (2.0.1)\n",
      "Requirement already satisfied: typer in c:\\users\\titom\\anaconda3\\envs\\cellpose\\lib\\site-packages (from npe2>=0.7.2->napari->napari-skimage-regionprops) (0.9.0)\n",
      "Requirement already satisfied: sphinx>=5 in c:\\users\\titom\\anaconda3\\envs\\cellpose\\lib\\site-packages (from numpydoc>=0.9.2->napari->napari-skimage-regionprops) (7.1.2)\n",
      "Requirement already satisfied: Jinja2>=2.10 in c:\\users\\titom\\anaconda3\\envs\\cellpose\\lib\\site-packages (from numpydoc>=0.9.2->napari->napari-skimage-regionprops) (3.1.2)\n",
      "Requirement already satisfied: tabulate>=0.8.10 in c:\\users\\titom\\anaconda3\\envs\\cellpose\\lib\\site-packages (from numpydoc>=0.9.2->napari->napari-skimage-regionprops) (0.9.0)\n",
      "Requirement already satisfied: annotated-types>=0.4.0 in c:\\users\\titom\\anaconda3\\envs\\cellpose\\lib\\site-packages (from pydantic>=1.9.0->napari->napari-skimage-regionprops) (0.6.0)\n",
      "Requirement already satisfied: pydantic-core==2.16.3 in c:\\users\\titom\\anaconda3\\envs\\cellpose\\lib\\site-packages (from pydantic>=1.9.0->napari->napari-skimage-regionprops) (2.16.3)\n",
      "Requirement already satisfied: six>=1.5 in c:\\users\\titom\\anaconda3\\envs\\cellpose\\lib\\site-packages (from python-dateutil>=2.8.2->pandas->napari-skimage-regionprops) (1.16.0)\n",
      "Requirement already satisfied: pooch>=1.6.0 in c:\\users\\titom\\anaconda3\\envs\\cellpose\\lib\\site-packages (from scikit-image->napari-skimage-regionprops) (1.8.1)\n",
      "Requirement already satisfied: colorama in c:\\users\\titom\\anaconda3\\envs\\cellpose\\lib\\site-packages (from tqdm>=4.56.0->napari->napari-skimage-regionprops) (0.4.6)\n",
      "Requirement already satisfied: freetype-py in c:\\users\\titom\\anaconda3\\envs\\cellpose\\lib\\site-packages (from vispy<0.15,>=0.14.1->napari->napari-skimage-regionprops) (2.4.0)\n",
      "Requirement already satisfied: hsluv in c:\\users\\titom\\anaconda3\\envs\\cellpose\\lib\\site-packages (from vispy<0.15,>=0.14.1->napari->napari-skimage-regionprops) (5.0.4)\n",
      "Requirement already satisfied: kiwisolver in c:\\users\\titom\\anaconda3\\envs\\cellpose\\lib\\site-packages (from vispy<0.15,>=0.14.1->napari->napari-skimage-regionprops) (1.4.5)\n",
      "Requirement already satisfied: pycodestyle>=2.11.0 in c:\\users\\titom\\anaconda3\\envs\\cellpose\\lib\\site-packages (from autopep8->napari-workflows->napari-skimage-regionprops) (2.11.1)\n",
      "Requirement already satisfied: pyproject_hooks in c:\\users\\titom\\anaconda3\\envs\\cellpose\\lib\\site-packages (from build>=1->npe2>=0.7.2->napari->napari-skimage-regionprops) (1.0.0)\n",
      "Requirement already satisfied: zipp>=0.5 in c:\\users\\titom\\anaconda3\\envs\\cellpose\\lib\\site-packages (from importlib-metadata>=4.13.0->dask[array]!=2.28.0,>=2.15.0->napari->napari-skimage-regionprops) (3.16.2)\n",
      "Requirement already satisfied: comm>=0.1.1 in c:\\users\\titom\\anaconda3\\envs\\cellpose\\lib\\site-packages (from ipykernel>=5.2.0->napari-console>=0.0.9->napari->napari-skimage-regionprops) (0.2.2)\n",
      "Requirement already satisfied: debugpy>=1.6.5 in c:\\users\\titom\\anaconda3\\envs\\cellpose\\lib\\site-packages (from ipykernel>=5.2.0->napari-console>=0.0.9->napari->napari-skimage-regionprops) (1.8.1)\n",
      "Requirement already satisfied: jupyter-client>=6.1.12 in c:\\users\\titom\\anaconda3\\envs\\cellpose\\lib\\site-packages (from ipykernel>=5.2.0->napari-console>=0.0.9->napari->napari-skimage-regionprops) (8.6.1)\n",
      "Requirement already satisfied: jupyter-core!=5.0.*,>=4.12 in c:\\users\\titom\\anaconda3\\envs\\cellpose\\lib\\site-packages (from ipykernel>=5.2.0->napari-console>=0.0.9->napari->napari-skimage-regionprops) (5.7.2)\n",
      "Requirement already satisfied: matplotlib-inline>=0.1 in c:\\users\\titom\\anaconda3\\envs\\cellpose\\lib\\site-packages (from ipykernel>=5.2.0->napari-console>=0.0.9->napari->napari-skimage-regionprops) (0.1.6)\n",
      "Requirement already satisfied: nest-asyncio in c:\\users\\titom\\anaconda3\\envs\\cellpose\\lib\\site-packages (from ipykernel>=5.2.0->napari-console>=0.0.9->napari->napari-skimage-regionprops) (1.6.0)\n",
      "Requirement already satisfied: pyzmq>=24 in c:\\users\\titom\\anaconda3\\envs\\cellpose\\lib\\site-packages (from ipykernel>=5.2.0->napari-console>=0.0.9->napari->napari-skimage-regionprops) (25.1.2)\n",
      "Requirement already satisfied: tornado>=6.1 in c:\\users\\titom\\anaconda3\\envs\\cellpose\\lib\\site-packages (from ipykernel>=5.2.0->napari-console>=0.0.9->napari->napari-skimage-regionprops) (6.4)\n",
      "Requirement already satisfied: traitlets>=5.4.0 in c:\\users\\titom\\anaconda3\\envs\\cellpose\\lib\\site-packages (from ipykernel>=5.2.0->napari-console>=0.0.9->napari->napari-skimage-regionprops) (5.14.2)\n",
      "Requirement already satisfied: backcall in c:\\users\\titom\\anaconda3\\envs\\cellpose\\lib\\site-packages (from IPython>=7.7.0->napari-console>=0.0.9->napari->napari-skimage-regionprops) (0.2.0)\n",
      "Requirement already satisfied: decorator in c:\\users\\titom\\anaconda3\\envs\\cellpose\\lib\\site-packages (from IPython>=7.7.0->napari-console>=0.0.9->napari->napari-skimage-regionprops) (5.1.1)\n",
      "Requirement already satisfied: jedi>=0.16 in c:\\users\\titom\\anaconda3\\envs\\cellpose\\lib\\site-packages (from IPython>=7.7.0->napari-console>=0.0.9->napari->napari-skimage-regionprops) (0.19.1)\n",
      "Requirement already satisfied: pickleshare in c:\\users\\titom\\anaconda3\\envs\\cellpose\\lib\\site-packages (from IPython>=7.7.0->napari-console>=0.0.9->napari->napari-skimage-regionprops) (0.7.5)\n",
      "Requirement already satisfied: prompt-toolkit!=3.0.37,<3.1.0,>=3.0.30 in c:\\users\\titom\\anaconda3\\envs\\cellpose\\lib\\site-packages (from IPython>=7.7.0->napari-console>=0.0.9->napari->napari-skimage-regionprops) (3.0.43)\n",
      "Requirement already satisfied: stack-data in c:\\users\\titom\\anaconda3\\envs\\cellpose\\lib\\site-packages (from IPython>=7.7.0->napari-console>=0.0.9->napari->napari-skimage-regionprops) (0.6.3)\n",
      "Requirement already satisfied: MarkupSafe>=2.0 in c:\\users\\titom\\anaconda3\\envs\\cellpose\\lib\\site-packages (from Jinja2>=2.10->numpydoc>=0.9.2->napari->napari-skimage-regionprops) (2.1.3)\n",
      "Requirement already satisfied: locket in c:\\users\\titom\\anaconda3\\envs\\cellpose\\lib\\site-packages (from partd>=1.2.0->dask[array]!=2.28.0,>=2.15.0->napari->napari-skimage-regionprops) (1.0.0)\n",
      "Requirement already satisfied: platformdirs>=2.5.0 in c:\\users\\titom\\anaconda3\\envs\\cellpose\\lib\\site-packages (from pooch>=1.6.0->scikit-image->napari-skimage-regionprops) (4.2.0)\n",
      "Requirement already satisfied: requests>=2.19.0 in c:\\users\\titom\\anaconda3\\envs\\cellpose\\lib\\site-packages (from pooch>=1.6.0->scikit-image->napari-skimage-regionprops) (2.31.0)\n",
      "Requirement already satisfied: sphinxcontrib-applehelp in c:\\users\\titom\\anaconda3\\envs\\cellpose\\lib\\site-packages (from sphinx>=5->numpydoc>=0.9.2->napari->napari-skimage-regionprops) (1.0.4)\n",
      "Requirement already satisfied: sphinxcontrib-devhelp in c:\\users\\titom\\anaconda3\\envs\\cellpose\\lib\\site-packages (from sphinx>=5->numpydoc>=0.9.2->napari->napari-skimage-regionprops) (1.0.2)\n",
      "Requirement already satisfied: sphinxcontrib-jsmath in c:\\users\\titom\\anaconda3\\envs\\cellpose\\lib\\site-packages (from sphinx>=5->numpydoc>=0.9.2->napari->napari-skimage-regionprops) (1.0.1)\n",
      "Requirement already satisfied: sphinxcontrib-htmlhelp>=2.0.0 in c:\\users\\titom\\anaconda3\\envs\\cellpose\\lib\\site-packages (from sphinx>=5->numpydoc>=0.9.2->napari->napari-skimage-regionprops) (2.0.1)\n",
      "Requirement already satisfied: sphinxcontrib-serializinghtml>=1.1.5 in c:\\users\\titom\\anaconda3\\envs\\cellpose\\lib\\site-packages (from sphinx>=5->numpydoc>=0.9.2->napari->napari-skimage-regionprops) (1.1.5)\n",
      "Requirement already satisfied: sphinxcontrib-qthelp in c:\\users\\titom\\anaconda3\\envs\\cellpose\\lib\\site-packages (from sphinx>=5->numpydoc>=0.9.2->napari->napari-skimage-regionprops) (1.0.3)\n",
      "Requirement already satisfied: docutils<0.21,>=0.18.1 in c:\\users\\titom\\anaconda3\\envs\\cellpose\\lib\\site-packages (from sphinx>=5->numpydoc>=0.9.2->napari->napari-skimage-regionprops) (0.20.1)\n",
      "Requirement already satisfied: snowballstemmer>=2.0 in c:\\users\\titom\\anaconda3\\envs\\cellpose\\lib\\site-packages (from sphinx>=5->numpydoc>=0.9.2->napari->napari-skimage-regionprops) (2.2.0)\n",
      "Requirement already satisfied: babel>=2.9 in c:\\users\\titom\\anaconda3\\envs\\cellpose\\lib\\site-packages (from sphinx>=5->numpydoc>=0.9.2->napari->napari-skimage-regionprops) (2.14.0)\n",
      "Requirement already satisfied: alabaster<0.8,>=0.7 in c:\\users\\titom\\anaconda3\\envs\\cellpose\\lib\\site-packages (from sphinx>=5->numpydoc>=0.9.2->napari->napari-skimage-regionprops) (0.7.13)\n",
      "Requirement already satisfied: imagesize>=1.3 in c:\\users\\titom\\anaconda3\\envs\\cellpose\\lib\\site-packages (from sphinx>=5->numpydoc>=0.9.2->napari->napari-skimage-regionprops) (1.4.1)\n",
      "Requirement already satisfied: pyconify>=0.1.4 in c:\\users\\titom\\anaconda3\\envs\\cellpose\\lib\\site-packages (from superqt>=0.4.1->napari->napari-skimage-regionprops) (0.1.6)\n",
      "Requirement already satisfied: markdown-it-py>=2.2.0 in c:\\users\\titom\\anaconda3\\envs\\cellpose\\lib\\site-packages (from rich->npe2>=0.7.2->napari->napari-skimage-regionprops) (3.0.0)\n",
      "Requirement already satisfied: parso<0.9.0,>=0.8.3 in c:\\users\\titom\\anaconda3\\envs\\cellpose\\lib\\site-packages (from jedi>=0.16->IPython>=7.7.0->napari-console>=0.0.9->napari->napari-skimage-regionprops) (0.8.3)\n",
      "Requirement already satisfied: pywin32>=300 in c:\\users\\titom\\anaconda3\\envs\\cellpose\\lib\\site-packages (from jupyter-core!=5.0.*,>=4.12->ipykernel>=5.2.0->napari-console>=0.0.9->napari->napari-skimage-regionprops) (306)\n",
      "Requirement already satisfied: mdurl~=0.1 in c:\\users\\titom\\anaconda3\\envs\\cellpose\\lib\\site-packages (from markdown-it-py>=2.2.0->rich->npe2>=0.7.2->napari->napari-skimage-regionprops) (0.1.2)\n",
      "Requirement already satisfied: wcwidth in c:\\users\\titom\\anaconda3\\envs\\cellpose\\lib\\site-packages (from prompt-toolkit!=3.0.37,<3.1.0,>=3.0.30->IPython>=7.7.0->napari-console>=0.0.9->napari->napari-skimage-regionprops) (0.2.13)\n",
      "Requirement already satisfied: charset-normalizer<4,>=2 in c:\\users\\titom\\anaconda3\\envs\\cellpose\\lib\\site-packages (from requests>=2.19.0->pooch>=1.6.0->scikit-image->napari-skimage-regionprops) (3.2.0)\n",
      "Requirement already satisfied: idna<4,>=2.5 in c:\\users\\titom\\anaconda3\\envs\\cellpose\\lib\\site-packages (from requests>=2.19.0->pooch>=1.6.0->scikit-image->napari-skimage-regionprops) (3.4)\n",
      "Requirement already satisfied: urllib3<3,>=1.21.1 in c:\\users\\titom\\anaconda3\\envs\\cellpose\\lib\\site-packages (from requests>=2.19.0->pooch>=1.6.0->scikit-image->napari-skimage-regionprops) (1.26.16)\n",
      "Requirement already satisfied: executing>=1.2.0 in c:\\users\\titom\\anaconda3\\envs\\cellpose\\lib\\site-packages (from stack-data->IPython>=7.7.0->napari-console>=0.0.9->napari->napari-skimage-regionprops) (2.0.1)\n",
      "Requirement already satisfied: asttokens>=2.1.0 in c:\\users\\titom\\anaconda3\\envs\\cellpose\\lib\\site-packages (from stack-data->IPython>=7.7.0->napari-console>=0.0.9->napari->napari-skimage-regionprops) (2.4.1)\n",
      "Requirement already satisfied: pure-eval in c:\\users\\titom\\anaconda3\\envs\\cellpose\\lib\\site-packages (from stack-data->IPython>=7.7.0->napari-console>=0.0.9->napari->napari-skimage-regionprops) (0.2.2)\n"
     ]
    },
    {
     "name": "stdout",
     "output_type": "stream",
     "text": [
      "Requirement already satisfied: matplotlib in c:\\users\\titom\\anaconda3\\envs\\cellpose\\lib\\site-packages (3.7.5)\n",
      "Requirement already satisfied: contourpy>=1.0.1 in c:\\users\\titom\\anaconda3\\envs\\cellpose\\lib\\site-packages (from matplotlib) (1.1.1)\n",
      "Requirement already satisfied: cycler>=0.10 in c:\\users\\titom\\anaconda3\\envs\\cellpose\\lib\\site-packages (from matplotlib) (0.12.1)\n",
      "Requirement already satisfied: fonttools>=4.22.0 in c:\\users\\titom\\anaconda3\\envs\\cellpose\\lib\\site-packages (from matplotlib) (4.49.0)\n",
      "Requirement already satisfied: kiwisolver>=1.0.1 in c:\\users\\titom\\anaconda3\\envs\\cellpose\\lib\\site-packages (from matplotlib) (1.4.5)\n",
      "Requirement already satisfied: numpy<2,>=1.20 in c:\\users\\titom\\anaconda3\\envs\\cellpose\\lib\\site-packages (from matplotlib) (1.24.4)\n",
      "Requirement already satisfied: packaging>=20.0 in c:\\users\\titom\\anaconda3\\envs\\cellpose\\lib\\site-packages (from matplotlib) (23.1)\n",
      "Requirement already satisfied: pillow>=6.2.0 in c:\\users\\titom\\anaconda3\\envs\\cellpose\\lib\\site-packages (from matplotlib) (10.3.0)\n",
      "Requirement already satisfied: pyparsing>=2.3.1 in c:\\users\\titom\\anaconda3\\envs\\cellpose\\lib\\site-packages (from matplotlib) (3.1.1)\n",
      "Requirement already satisfied: python-dateutil>=2.7 in c:\\users\\titom\\anaconda3\\envs\\cellpose\\lib\\site-packages (from matplotlib) (2.8.2)\n",
      "Requirement already satisfied: importlib-resources>=3.2.0 in c:\\users\\titom\\anaconda3\\envs\\cellpose\\lib\\site-packages (from matplotlib) (6.1.1)\n",
      "Requirement already satisfied: zipp>=3.1.0 in c:\\users\\titom\\anaconda3\\envs\\cellpose\\lib\\site-packages (from importlib-resources>=3.2.0->matplotlib) (3.16.2)\n",
      "Requirement already satisfied: six>=1.5 in c:\\users\\titom\\anaconda3\\envs\\cellpose\\lib\\site-packages (from python-dateutil>=2.7->matplotlib) (1.16.0)\n",
      "Requirement already satisfied: tifffile in c:\\users\\titom\\anaconda3\\envs\\cellpose\\lib\\site-packages (2023.7.10)\n",
      "Requirement already satisfied: numpy in c:\\users\\titom\\anaconda3\\envs\\cellpose\\lib\\site-packages (from tifffile) (1.24.4)\n",
      "Requirement already satisfied: openpyxl in c:\\users\\titom\\anaconda3\\envs\\cellpose\\lib\\site-packages (3.1.2)\n",
      "Requirement already satisfied: et-xmlfile in c:\\users\\titom\\anaconda3\\envs\\cellpose\\lib\\site-packages (from openpyxl) (1.1.0)\n"
     ]
    }
   ],
   "source": [
    "!pip install napari-skimage-regionprops\n",
    "!pip install matplotlib\n",
    "!pip install tifffile\n",
    "!pip install openpyxl"
   ]
  },
  {
   "cell_type": "code",
   "execution_count": 2,
   "id": "4110f879",
   "metadata": {},
   "outputs": [
    {
     "name": "stdout",
     "output_type": "stream",
     "text": [
      "Requirement already satisfied: napari in c:\\users\\titom\\anaconda3\\envs\\cellpose\\lib\\site-packages (0.4.19.post1)\n",
      "Requirement already satisfied: appdirs>=1.4.4 in c:\\users\\titom\\anaconda3\\envs\\cellpose\\lib\\site-packages (from napari) (1.4.4)\n",
      "Requirement already satisfied: app-model<0.3.0,>=0.1.2 in c:\\users\\titom\\anaconda3\\envs\\cellpose\\lib\\site-packages (from napari) (0.2.5)\n",
      "Requirement already satisfied: cachey>=0.2.1 in c:\\users\\titom\\anaconda3\\envs\\cellpose\\lib\\site-packages (from napari) (0.2.1)\n",
      "Requirement already satisfied: certifi>=2018.1.18 in c:\\users\\titom\\anaconda3\\envs\\cellpose\\lib\\site-packages (from napari) (2023.7.22)\n",
      "Requirement already satisfied: dask[array]!=2.28.0,>=2.15.0 in c:\\users\\titom\\anaconda3\\envs\\cellpose\\lib\\site-packages (from napari) (2023.5.0)\n",
      "Requirement already satisfied: imageio!=2.22.1,>=2.20 in c:\\users\\titom\\anaconda3\\envs\\cellpose\\lib\\site-packages (from napari) (2.34.0)\n",
      "Requirement already satisfied: jsonschema>=3.2.0 in c:\\users\\titom\\anaconda3\\envs\\cellpose\\lib\\site-packages (from napari) (4.21.1)\n",
      "Requirement already satisfied: lazy-loader>=0.2 in c:\\users\\titom\\anaconda3\\envs\\cellpose\\lib\\site-packages (from napari) (0.3)\n",
      "Requirement already satisfied: magicgui>=0.3.6 in c:\\users\\titom\\anaconda3\\envs\\cellpose\\lib\\site-packages (from napari) (0.8.2)\n",
      "Requirement already satisfied: napari-console>=0.0.9 in c:\\users\\titom\\anaconda3\\envs\\cellpose\\lib\\site-packages (from napari) (0.0.9)\n",
      "Requirement already satisfied: napari-plugin-engine>=0.1.9 in c:\\users\\titom\\anaconda3\\envs\\cellpose\\lib\\site-packages (from napari) (0.2.0)\n",
      "Requirement already satisfied: napari-svg>=0.1.8 in c:\\users\\titom\\anaconda3\\envs\\cellpose\\lib\\site-packages (from napari) (0.1.10)\n",
      "Requirement already satisfied: npe2>=0.7.2 in c:\\users\\titom\\anaconda3\\envs\\cellpose\\lib\\site-packages (from napari) (0.7.4)\n",
      "Requirement already satisfied: numpy<2,>=1.21 in c:\\users\\titom\\anaconda3\\envs\\cellpose\\lib\\site-packages (from napari) (1.24.4)\n",
      "Requirement already satisfied: numpydoc>=0.9.2 in c:\\users\\titom\\anaconda3\\envs\\cellpose\\lib\\site-packages (from napari) (1.6.0)\n",
      "Requirement already satisfied: Pillow!=7.1.0,!=7.1.1 in c:\\users\\titom\\anaconda3\\envs\\cellpose\\lib\\site-packages (from napari) (10.3.0)\n",
      "Requirement already satisfied: pint>=0.17 in c:\\users\\titom\\anaconda3\\envs\\cellpose\\lib\\site-packages (from napari) (0.21.1)\n",
      "Requirement already satisfied: psutil>=5.0 in c:\\users\\titom\\anaconda3\\envs\\cellpose\\lib\\site-packages (from napari) (5.9.8)\n",
      "Requirement already satisfied: psygnal>=0.3.4 in c:\\users\\titom\\anaconda3\\envs\\cellpose\\lib\\site-packages (from napari) (0.10.2)\n",
      "Requirement already satisfied: pydantic>=1.9.0 in c:\\users\\titom\\anaconda3\\envs\\cellpose\\lib\\site-packages (from napari) (2.6.4)\n",
      "Requirement already satisfied: pygments>=2.6.0 in c:\\users\\titom\\anaconda3\\envs\\cellpose\\lib\\site-packages (from napari) (2.16.1)\n",
      "Requirement already satisfied: PyOpenGL>=3.1.0 in c:\\users\\titom\\anaconda3\\envs\\cellpose\\lib\\site-packages (from napari) (3.1.7)\n",
      "Requirement already satisfied: PyYAML>=5.1 in c:\\users\\titom\\anaconda3\\envs\\cellpose\\lib\\site-packages (from napari) (6.0.1)\n",
      "Requirement already satisfied: qtpy>=1.10.0 in c:\\users\\titom\\anaconda3\\envs\\cellpose\\lib\\site-packages (from napari) (2.4.0)\n",
      "Requirement already satisfied: scikit-image[data]>=0.19.1 in c:\\users\\titom\\anaconda3\\envs\\cellpose\\lib\\site-packages (from napari) (0.21.0)\n",
      "Requirement already satisfied: superqt>=0.4.1 in c:\\users\\titom\\anaconda3\\envs\\cellpose\\lib\\site-packages (from napari) (0.6.2)\n",
      "Requirement already satisfied: tifffile>=2020.2.16 in c:\\users\\titom\\anaconda3\\envs\\cellpose\\lib\\site-packages (from napari) (2023.7.10)\n",
      "Requirement already satisfied: toolz>=0.10.0 in c:\\users\\titom\\anaconda3\\envs\\cellpose\\lib\\site-packages (from napari) (0.12.0)\n",
      "Requirement already satisfied: tqdm>=4.56.0 in c:\\users\\titom\\anaconda3\\envs\\cellpose\\lib\\site-packages (from napari) (4.66.1)\n",
      "Requirement already satisfied: typing-extensions>=4.2.0 in c:\\users\\titom\\anaconda3\\envs\\cellpose\\lib\\site-packages (from napari) (4.7.1)\n",
      "Requirement already satisfied: vispy<0.15,>=0.14.1 in c:\\users\\titom\\anaconda3\\envs\\cellpose\\lib\\site-packages (from napari) (0.14.2)\n",
      "Requirement already satisfied: wrapt>=1.11.1 in c:\\users\\titom\\anaconda3\\envs\\cellpose\\lib\\site-packages (from napari) (1.16.0)\n",
      "Requirement already satisfied: pandas>=1.1.0 in c:\\users\\titom\\anaconda3\\envs\\cellpose\\lib\\site-packages (from napari) (2.0.3)\n",
      "Requirement already satisfied: scipy>=1.4.1 in c:\\users\\titom\\anaconda3\\envs\\cellpose\\lib\\site-packages (from napari) (1.10.1)\n",
      "Requirement already satisfied: in-n-out>=0.1.5 in c:\\users\\titom\\anaconda3\\envs\\cellpose\\lib\\site-packages (from app-model<0.3.0,>=0.1.2->napari) (0.2.0)\n",
      "Requirement already satisfied: pydantic-compat>=0.1.1 in c:\\users\\titom\\anaconda3\\envs\\cellpose\\lib\\site-packages (from app-model<0.3.0,>=0.1.2->napari) (0.1.2)\n",
      "Requirement already satisfied: heapdict in c:\\users\\titom\\anaconda3\\envs\\cellpose\\lib\\site-packages (from cachey>=0.2.1->napari) (1.0.1)\n",
      "Requirement already satisfied: click>=8.0 in c:\\users\\titom\\anaconda3\\envs\\cellpose\\lib\\site-packages (from dask[array]!=2.28.0,>=2.15.0->napari) (8.1.7)\n",
      "Requirement already satisfied: cloudpickle>=1.5.0 in c:\\users\\titom\\anaconda3\\envs\\cellpose\\lib\\site-packages (from dask[array]!=2.28.0,>=2.15.0->napari) (3.0.0)\n",
      "Requirement already satisfied: fsspec>=2021.09.0 in c:\\users\\titom\\anaconda3\\envs\\cellpose\\lib\\site-packages (from dask[array]!=2.28.0,>=2.15.0->napari) (2024.3.1)\n",
      "Requirement already satisfied: packaging>=20.0 in c:\\users\\titom\\anaconda3\\envs\\cellpose\\lib\\site-packages (from dask[array]!=2.28.0,>=2.15.0->napari) (23.1)\n",
      "Requirement already satisfied: partd>=1.2.0 in c:\\users\\titom\\anaconda3\\envs\\cellpose\\lib\\site-packages (from dask[array]!=2.28.0,>=2.15.0->napari) (1.4.1)\n",
      "Requirement already satisfied: importlib-metadata>=4.13.0 in c:\\users\\titom\\anaconda3\\envs\\cellpose\\lib\\site-packages (from dask[array]!=2.28.0,>=2.15.0->napari) (6.8.0)\n",
      "Requirement already satisfied: attrs>=22.2.0 in c:\\users\\titom\\anaconda3\\envs\\cellpose\\lib\\site-packages (from jsonschema>=3.2.0->napari) (23.2.0)\n",
      "Requirement already satisfied: importlib-resources>=1.4.0 in c:\\users\\titom\\anaconda3\\envs\\cellpose\\lib\\site-packages (from jsonschema>=3.2.0->napari) (6.1.1)\n",
      "Requirement already satisfied: jsonschema-specifications>=2023.03.6 in c:\\users\\titom\\anaconda3\\envs\\cellpose\\lib\\site-packages (from jsonschema>=3.2.0->napari) (2023.12.1)\n",
      "Requirement already satisfied: pkgutil-resolve-name>=1.3.10 in c:\\users\\titom\\anaconda3\\envs\\cellpose\\lib\\site-packages (from jsonschema>=3.2.0->napari) (1.3.10)\n",
      "Requirement already satisfied: referencing>=0.28.4 in c:\\users\\titom\\anaconda3\\envs\\cellpose\\lib\\site-packages (from jsonschema>=3.2.0->napari) (0.34.0)\n",
      "Requirement already satisfied: rpds-py>=0.7.1 in c:\\users\\titom\\anaconda3\\envs\\cellpose\\lib\\site-packages (from jsonschema>=3.2.0->napari) (0.18.0)\n",
      "Requirement already satisfied: docstring-parser>=0.7 in c:\\users\\titom\\anaconda3\\envs\\cellpose\\lib\\site-packages (from magicgui>=0.3.6->napari) (0.16)\n",
      "Requirement already satisfied: IPython>=7.7.0 in c:\\users\\titom\\anaconda3\\envs\\cellpose\\lib\\site-packages (from napari-console>=0.0.9->napari) (8.12.3)\n",
      "Requirement already satisfied: ipykernel>=5.2.0 in c:\\users\\titom\\anaconda3\\envs\\cellpose\\lib\\site-packages (from napari-console>=0.0.9->napari) (6.29.3)\n",
      "Requirement already satisfied: qtconsole!=4.7.6,!=5.4.2,>=4.5.1 in c:\\users\\titom\\anaconda3\\envs\\cellpose\\lib\\site-packages (from napari-console>=0.0.9->napari) (5.5.1)\n",
      "Requirement already satisfied: build>=1 in c:\\users\\titom\\anaconda3\\envs\\cellpose\\lib\\site-packages (from npe2>=0.7.2->napari) (1.1.1)\n",
      "Requirement already satisfied: rich in c:\\users\\titom\\anaconda3\\envs\\cellpose\\lib\\site-packages (from npe2>=0.7.2->napari) (13.7.1)\n",
      "Requirement already satisfied: tomli-w in c:\\users\\titom\\anaconda3\\envs\\cellpose\\lib\\site-packages (from npe2>=0.7.2->napari) (1.0.0)\n",
      "Requirement already satisfied: tomli in c:\\users\\titom\\anaconda3\\envs\\cellpose\\lib\\site-packages (from npe2>=0.7.2->napari) (2.0.1)\n",
      "Requirement already satisfied: typer in c:\\users\\titom\\anaconda3\\envs\\cellpose\\lib\\site-packages (from npe2>=0.7.2->napari) (0.9.0)\n",
      "Requirement already satisfied: sphinx>=5 in c:\\users\\titom\\anaconda3\\envs\\cellpose\\lib\\site-packages (from numpydoc>=0.9.2->napari) (7.1.2)\n",
      "Requirement already satisfied: Jinja2>=2.10 in c:\\users\\titom\\anaconda3\\envs\\cellpose\\lib\\site-packages (from numpydoc>=0.9.2->napari) (3.1.2)\n",
      "Requirement already satisfied: tabulate>=0.8.10 in c:\\users\\titom\\anaconda3\\envs\\cellpose\\lib\\site-packages (from numpydoc>=0.9.2->napari) (0.9.0)\n",
      "Requirement already satisfied: python-dateutil>=2.8.2 in c:\\users\\titom\\anaconda3\\envs\\cellpose\\lib\\site-packages (from pandas>=1.1.0->napari) (2.8.2)\n",
      "Requirement already satisfied: pytz>=2020.1 in c:\\users\\titom\\anaconda3\\envs\\cellpose\\lib\\site-packages (from pandas>=1.1.0->napari) (2024.1)\n",
      "Requirement already satisfied: tzdata>=2022.1 in c:\\users\\titom\\anaconda3\\envs\\cellpose\\lib\\site-packages (from pandas>=1.1.0->napari) (2024.1)\n",
      "Requirement already satisfied: annotated-types>=0.4.0 in c:\\users\\titom\\anaconda3\\envs\\cellpose\\lib\\site-packages (from pydantic>=1.9.0->napari) (0.6.0)\n",
      "Requirement already satisfied: pydantic-core==2.16.3 in c:\\users\\titom\\anaconda3\\envs\\cellpose\\lib\\site-packages (from pydantic>=1.9.0->napari) (2.16.3)\n",
      "Requirement already satisfied: networkx>=2.8 in c:\\users\\titom\\anaconda3\\envs\\cellpose\\lib\\site-packages (from scikit-image[data]>=0.19.1->napari) (3.1)\n",
      "Requirement already satisfied: PyWavelets>=1.1.1 in c:\\users\\titom\\anaconda3\\envs\\cellpose\\lib\\site-packages (from scikit-image[data]>=0.19.1->napari) (1.4.1)\n",
      "Requirement already satisfied: pooch>=1.6.0 in c:\\users\\titom\\anaconda3\\envs\\cellpose\\lib\\site-packages (from scikit-image[data]>=0.19.1->napari) (1.8.1)\n",
      "Requirement already satisfied: colorama in c:\\users\\titom\\anaconda3\\envs\\cellpose\\lib\\site-packages (from tqdm>=4.56.0->napari) (0.4.6)\n",
      "Requirement already satisfied: freetype-py in c:\\users\\titom\\anaconda3\\envs\\cellpose\\lib\\site-packages (from vispy<0.15,>=0.14.1->napari) (2.4.0)\n",
      "Requirement already satisfied: hsluv in c:\\users\\titom\\anaconda3\\envs\\cellpose\\lib\\site-packages (from vispy<0.15,>=0.14.1->napari) (5.0.4)\n",
      "Requirement already satisfied: kiwisolver in c:\\users\\titom\\anaconda3\\envs\\cellpose\\lib\\site-packages (from vispy<0.15,>=0.14.1->napari) (1.4.5)\n",
      "Requirement already satisfied: pyproject_hooks in c:\\users\\titom\\anaconda3\\envs\\cellpose\\lib\\site-packages (from build>=1->npe2>=0.7.2->napari) (1.0.0)\n",
      "Requirement already satisfied: zipp>=0.5 in c:\\users\\titom\\anaconda3\\envs\\cellpose\\lib\\site-packages (from importlib-metadata>=4.13.0->dask[array]!=2.28.0,>=2.15.0->napari) (3.16.2)\n",
      "Requirement already satisfied: comm>=0.1.1 in c:\\users\\titom\\anaconda3\\envs\\cellpose\\lib\\site-packages (from ipykernel>=5.2.0->napari-console>=0.0.9->napari) (0.2.2)\n",
      "Requirement already satisfied: debugpy>=1.6.5 in c:\\users\\titom\\anaconda3\\envs\\cellpose\\lib\\site-packages (from ipykernel>=5.2.0->napari-console>=0.0.9->napari) (1.8.1)\n",
      "Requirement already satisfied: jupyter-client>=6.1.12 in c:\\users\\titom\\anaconda3\\envs\\cellpose\\lib\\site-packages (from ipykernel>=5.2.0->napari-console>=0.0.9->napari) (8.6.1)\n",
      "Requirement already satisfied: jupyter-core!=5.0.*,>=4.12 in c:\\users\\titom\\anaconda3\\envs\\cellpose\\lib\\site-packages (from ipykernel>=5.2.0->napari-console>=0.0.9->napari) (5.7.2)\n",
      "Requirement already satisfied: matplotlib-inline>=0.1 in c:\\users\\titom\\anaconda3\\envs\\cellpose\\lib\\site-packages (from ipykernel>=5.2.0->napari-console>=0.0.9->napari) (0.1.6)\n",
      "Requirement already satisfied: nest-asyncio in c:\\users\\titom\\anaconda3\\envs\\cellpose\\lib\\site-packages (from ipykernel>=5.2.0->napari-console>=0.0.9->napari) (1.6.0)\n",
      "Requirement already satisfied: pyzmq>=24 in c:\\users\\titom\\anaconda3\\envs\\cellpose\\lib\\site-packages (from ipykernel>=5.2.0->napari-console>=0.0.9->napari) (25.1.2)\n",
      "Requirement already satisfied: tornado>=6.1 in c:\\users\\titom\\anaconda3\\envs\\cellpose\\lib\\site-packages (from ipykernel>=5.2.0->napari-console>=0.0.9->napari) (6.4)\n",
      "Requirement already satisfied: traitlets>=5.4.0 in c:\\users\\titom\\anaconda3\\envs\\cellpose\\lib\\site-packages (from ipykernel>=5.2.0->napari-console>=0.0.9->napari) (5.14.2)\n",
      "Requirement already satisfied: backcall in c:\\users\\titom\\anaconda3\\envs\\cellpose\\lib\\site-packages (from IPython>=7.7.0->napari-console>=0.0.9->napari) (0.2.0)\n",
      "Requirement already satisfied: decorator in c:\\users\\titom\\anaconda3\\envs\\cellpose\\lib\\site-packages (from IPython>=7.7.0->napari-console>=0.0.9->napari) (5.1.1)\n",
      "Requirement already satisfied: jedi>=0.16 in c:\\users\\titom\\anaconda3\\envs\\cellpose\\lib\\site-packages (from IPython>=7.7.0->napari-console>=0.0.9->napari) (0.19.1)\n",
      "Requirement already satisfied: pickleshare in c:\\users\\titom\\anaconda3\\envs\\cellpose\\lib\\site-packages (from IPython>=7.7.0->napari-console>=0.0.9->napari) (0.7.5)\n",
      "Requirement already satisfied: prompt-toolkit!=3.0.37,<3.1.0,>=3.0.30 in c:\\users\\titom\\anaconda3\\envs\\cellpose\\lib\\site-packages (from IPython>=7.7.0->napari-console>=0.0.9->napari) (3.0.43)\n",
      "Requirement already satisfied: stack-data in c:\\users\\titom\\anaconda3\\envs\\cellpose\\lib\\site-packages (from IPython>=7.7.0->napari-console>=0.0.9->napari) (0.6.3)\n",
      "Requirement already satisfied: MarkupSafe>=2.0 in c:\\users\\titom\\anaconda3\\envs\\cellpose\\lib\\site-packages (from Jinja2>=2.10->numpydoc>=0.9.2->napari) (2.1.3)\n",
      "Requirement already satisfied: locket in c:\\users\\titom\\anaconda3\\envs\\cellpose\\lib\\site-packages (from partd>=1.2.0->dask[array]!=2.28.0,>=2.15.0->napari) (1.0.0)\n",
      "Requirement already satisfied: platformdirs>=2.5.0 in c:\\users\\titom\\anaconda3\\envs\\cellpose\\lib\\site-packages (from pooch>=1.6.0->scikit-image[data]>=0.19.1->napari) (4.2.0)\n",
      "Requirement already satisfied: requests>=2.19.0 in c:\\users\\titom\\anaconda3\\envs\\cellpose\\lib\\site-packages (from pooch>=1.6.0->scikit-image[data]>=0.19.1->napari) (2.31.0)\n",
      "Requirement already satisfied: six>=1.5 in c:\\users\\titom\\anaconda3\\envs\\cellpose\\lib\\site-packages (from python-dateutil>=2.8.2->pandas>=1.1.0->napari) (1.16.0)\n",
      "Requirement already satisfied: sphinxcontrib-applehelp in c:\\users\\titom\\anaconda3\\envs\\cellpose\\lib\\site-packages (from sphinx>=5->numpydoc>=0.9.2->napari) (1.0.4)\n",
      "Requirement already satisfied: sphinxcontrib-devhelp in c:\\users\\titom\\anaconda3\\envs\\cellpose\\lib\\site-packages (from sphinx>=5->numpydoc>=0.9.2->napari) (1.0.2)\n",
      "Requirement already satisfied: sphinxcontrib-jsmath in c:\\users\\titom\\anaconda3\\envs\\cellpose\\lib\\site-packages (from sphinx>=5->numpydoc>=0.9.2->napari) (1.0.1)\n",
      "Requirement already satisfied: sphinxcontrib-htmlhelp>=2.0.0 in c:\\users\\titom\\anaconda3\\envs\\cellpose\\lib\\site-packages (from sphinx>=5->numpydoc>=0.9.2->napari) (2.0.1)\n",
      "Requirement already satisfied: sphinxcontrib-serializinghtml>=1.1.5 in c:\\users\\titom\\anaconda3\\envs\\cellpose\\lib\\site-packages (from sphinx>=5->numpydoc>=0.9.2->napari) (1.1.5)\n",
      "Requirement already satisfied: sphinxcontrib-qthelp in c:\\users\\titom\\anaconda3\\envs\\cellpose\\lib\\site-packages (from sphinx>=5->numpydoc>=0.9.2->napari) (1.0.3)\n",
      "Requirement already satisfied: docutils<0.21,>=0.18.1 in c:\\users\\titom\\anaconda3\\envs\\cellpose\\lib\\site-packages (from sphinx>=5->numpydoc>=0.9.2->napari) (0.20.1)\n",
      "Requirement already satisfied: snowballstemmer>=2.0 in c:\\users\\titom\\anaconda3\\envs\\cellpose\\lib\\site-packages (from sphinx>=5->numpydoc>=0.9.2->napari) (2.2.0)\n",
      "Requirement already satisfied: babel>=2.9 in c:\\users\\titom\\anaconda3\\envs\\cellpose\\lib\\site-packages (from sphinx>=5->numpydoc>=0.9.2->napari) (2.14.0)\n",
      "Requirement already satisfied: alabaster<0.8,>=0.7 in c:\\users\\titom\\anaconda3\\envs\\cellpose\\lib\\site-packages (from sphinx>=5->numpydoc>=0.9.2->napari) (0.7.13)\n",
      "Requirement already satisfied: imagesize>=1.3 in c:\\users\\titom\\anaconda3\\envs\\cellpose\\lib\\site-packages (from sphinx>=5->numpydoc>=0.9.2->napari) (1.4.1)\n",
      "Requirement already satisfied: pyconify>=0.1.4 in c:\\users\\titom\\anaconda3\\envs\\cellpose\\lib\\site-packages (from superqt>=0.4.1->napari) (0.1.6)\n",
      "Requirement already satisfied: markdown-it-py>=2.2.0 in c:\\users\\titom\\anaconda3\\envs\\cellpose\\lib\\site-packages (from rich->npe2>=0.7.2->napari) (3.0.0)\n",
      "Requirement already satisfied: parso<0.9.0,>=0.8.3 in c:\\users\\titom\\anaconda3\\envs\\cellpose\\lib\\site-packages (from jedi>=0.16->IPython>=7.7.0->napari-console>=0.0.9->napari) (0.8.3)\n",
      "Requirement already satisfied: pywin32>=300 in c:\\users\\titom\\anaconda3\\envs\\cellpose\\lib\\site-packages (from jupyter-core!=5.0.*,>=4.12->ipykernel>=5.2.0->napari-console>=0.0.9->napari) (306)\n",
      "Requirement already satisfied: mdurl~=0.1 in c:\\users\\titom\\anaconda3\\envs\\cellpose\\lib\\site-packages (from markdown-it-py>=2.2.0->rich->npe2>=0.7.2->napari) (0.1.2)\n",
      "Requirement already satisfied: wcwidth in c:\\users\\titom\\anaconda3\\envs\\cellpose\\lib\\site-packages (from prompt-toolkit!=3.0.37,<3.1.0,>=3.0.30->IPython>=7.7.0->napari-console>=0.0.9->napari) (0.2.13)\n",
      "Requirement already satisfied: charset-normalizer<4,>=2 in c:\\users\\titom\\anaconda3\\envs\\cellpose\\lib\\site-packages (from requests>=2.19.0->pooch>=1.6.0->scikit-image[data]>=0.19.1->napari) (3.2.0)\n",
      "Requirement already satisfied: idna<4,>=2.5 in c:\\users\\titom\\anaconda3\\envs\\cellpose\\lib\\site-packages (from requests>=2.19.0->pooch>=1.6.0->scikit-image[data]>=0.19.1->napari) (3.4)\n",
      "Requirement already satisfied: urllib3<3,>=1.21.1 in c:\\users\\titom\\anaconda3\\envs\\cellpose\\lib\\site-packages (from requests>=2.19.0->pooch>=1.6.0->scikit-image[data]>=0.19.1->napari) (1.26.16)\n",
      "Requirement already satisfied: executing>=1.2.0 in c:\\users\\titom\\anaconda3\\envs\\cellpose\\lib\\site-packages (from stack-data->IPython>=7.7.0->napari-console>=0.0.9->napari) (2.0.1)\n",
      "Requirement already satisfied: asttokens>=2.1.0 in c:\\users\\titom\\anaconda3\\envs\\cellpose\\lib\\site-packages (from stack-data->IPython>=7.7.0->napari-console>=0.0.9->napari) (2.4.1)\n",
      "Requirement already satisfied: pure-eval in c:\\users\\titom\\anaconda3\\envs\\cellpose\\lib\\site-packages (from stack-data->IPython>=7.7.0->napari-console>=0.0.9->napari) (0.2.2)\n"
     ]
    }
   ],
   "source": [
    "!pip install napari"
   ]
  },
  {
   "cell_type": "markdown",
   "id": "b58a8afe-de9d-497f-b770-27e8e202f013",
   "metadata": {},
   "source": [
    "### Imports"
   ]
  },
  {
   "cell_type": "code",
   "execution_count": 1,
   "id": "58927c4a-8f2c-4ee0-8987-698a5d838a6c",
   "metadata": {
    "scrolled": true
   },
   "outputs": [
    {
     "ename": "ModuleNotFoundError",
     "evalue": "No module named 'napari'",
     "output_type": "error",
     "traceback": [
      "\u001b[1;31m---------------------------------------------------------------------------\u001b[0m",
      "\u001b[1;31mModuleNotFoundError\u001b[0m                       Traceback (most recent call last)",
      "Cell \u001b[1;32mIn[1], line 1\u001b[0m\n\u001b[1;32m----> 1\u001b[0m \u001b[38;5;28;01mimport\u001b[39;00m \u001b[38;5;21;01mnapari\u001b[39;00m\n\u001b[0;32m      2\u001b[0m \u001b[38;5;28;01mimport\u001b[39;00m \u001b[38;5;21;01mpandas\u001b[39;00m \u001b[38;5;28;01mas\u001b[39;00m \u001b[38;5;21;01mpd\u001b[39;00m\n\u001b[0;32m      3\u001b[0m \u001b[38;5;28;01mfrom\u001b[39;00m \u001b[38;5;21;01mnapari_skimage_regionprops\u001b[39;00m \u001b[38;5;28;01mimport\u001b[39;00m regionprops_table, add_table, get_table\n",
      "\u001b[1;31mModuleNotFoundError\u001b[0m: No module named 'napari'"
     ]
    }
   ],
   "source": [
    "import napari\n",
    "import pandas as pd\n",
    "from napari_skimage_regionprops import regionprops_table, add_table, get_table\n",
    "import numpy as np\n",
    "from scipy import ndimage\n",
    "from skimage import measure, morphology\n",
    "import matplotlib.pyplot as plt\n",
    "from datetime import datetime  # Import the datetime library\n",
    "\n",
    "\n",
    "from cellpose import models, io\n",
    "import cellpose"
   ]
  },
  {
   "cell_type": "markdown",
   "id": "ce978e7d-12a2-4d59-856b-8709dcb2cd26",
   "metadata": {},
   "source": [
    "### Functions"
   ]
  },
  {
   "cell_type": "code",
   "execution_count": 2,
   "id": "a6b74017-504b-429a-bf94-3aba18fc26ab",
   "metadata": {
    "scrolled": true
   },
   "outputs": [],
   "source": [
    "'''\n",
    "Function to get IDs of cells present in a certain % planes \n",
    "can be used for example to pinpoint the best / fully segmented ones \n",
    "or the truncated ones that need correcting! \n",
    "'''\n",
    "\n",
    "def select_cells_by_integrity(z_planes, cells, percentage):\n",
    "    target_n_planes = round ((percentage / 100 ) * z_planes)\n",
    "    selected_cells = []\n",
    "    IDs = np.unique(cells[:,1])\n",
    "    counter_ID = np.zeros((np.max(IDs)+1, 1))\n",
    "    for i in cells:\n",
    "        counter_ID[i[1]] = counter_ID[i[1]] + 1\n",
    "    count_good = 0\n",
    "    count_bad = 0\n",
    "    for cell_id, i in enumerate(counter_ID):\n",
    "        if i >= target_n_planes:\n",
    "            count_good = count_good + 1\n",
    "        else:\n",
    "            count_bad = count_bad + 1\n",
    "\n",
    "    return count_good, count_bad\n",
    "# function to filter labels based on a list of label ids one wants to keep (one frame)\n",
    "def select_labels_oneframe(input_labels, ids_to_keep):\n",
    "    mask = np.isin(input_labels, ids_to_keep)\n",
    "    selected_labels = np.where(mask, input_labels, 0)\n",
    "    return selected_labels\n",
    "\n",
    "# function to filter labels based on a list of label ids one wants to keep (for a stack/movie)\n",
    "def select_labels_stack(input_labels, ids_to_keep):\n",
    "    picked_labels = []\n",
    "    for i in range(0,len(input_labels.data)):\n",
    "        current_frame = (input_labels.data[i])\n",
    "        picked_labels.append(select_labels_oneframe(current_frame, ids_to_keep)) \n",
    "    return picked_labels\n",
    "\n"
   ]
  },
  {
   "cell_type": "markdown",
   "id": "e84bf157",
   "metadata": {},
   "source": [
    "### \".h5\" -> \".tif\" converter."
   ]
  },
  {
   "cell_type": "code",
   "execution_count": 7,
   "id": "9fa64d7d",
   "metadata": {},
   "outputs": [
    {
     "name": "stdout",
     "output_type": "stream",
     "text": [
      "Collecting h5py\n",
      "  Obtaining dependency information for h5py from https://files.pythonhosted.org/packages/15/9a/b5456e1acc4abb382938d4a730600823bfe77a4bbfd29140ccbf01ba5596/h5py-3.11.0-cp38-cp38-win_amd64.whl.metadata\n",
      "  Downloading h5py-3.11.0-cp38-cp38-win_amd64.whl.metadata (2.5 kB)\n",
      "Requirement already satisfied: numpy>=1.17.3 in c:\\users\\titom\\anaconda3\\envs\\cellpose\\lib\\site-packages (from h5py) (1.24.4)\n",
      "Downloading h5py-3.11.0-cp38-cp38-win_amd64.whl (3.0 MB)\n",
      "   ---------------------------------------- 0.0/3.0 MB ? eta -:--:--\n",
      "   ---------------------------------------- 0.0/3.0 MB ? eta -:--:--\n",
      "   ---------------------------------------- 0.0/3.0 MB 320.0 kB/s eta 0:00:10\n",
      "   ---------------------------------------- 0.0/3.0 MB 217.9 kB/s eta 0:00:14\n",
      "   ---------------------------------------- 0.0/3.0 MB 217.9 kB/s eta 0:00:14\n",
      "    --------------------------------------- 0.0/3.0 MB 163.4 kB/s eta 0:00:19\n",
      "    --------------------------------------- 0.0/3.0 MB 163.4 kB/s eta 0:00:19\n",
      "    --------------------------------------- 0.1/3.0 MB 192.5 kB/s eta 0:00:16\n",
      "   - -------------------------------------- 0.1/3.0 MB 238.1 kB/s eta 0:00:13\n",
      "   - -------------------------------------- 0.1/3.0 MB 238.1 kB/s eta 0:00:13\n",
      "   - -------------------------------------- 0.1/3.0 MB 210.4 kB/s eta 0:00:14\n",
      "   -- ------------------------------------- 0.2/3.0 MB 295.6 kB/s eta 0:00:10\n",
      "   -- ------------------------------------- 0.2/3.0 MB 318.2 kB/s eta 0:00:09\n",
      "   --- ------------------------------------ 0.2/3.0 MB 371.4 kB/s eta 0:00:08\n",
      "   --- ------------------------------------ 0.3/3.0 MB 409.6 kB/s eta 0:00:07\n",
      "   ---- ----------------------------------- 0.3/3.0 MB 457.1 kB/s eta 0:00:06\n",
      "   ---- ----------------------------------- 0.3/3.0 MB 470.0 kB/s eta 0:00:06\n",
      "   ----- ---------------------------------- 0.4/3.0 MB 508.0 kB/s eta 0:00:06\n",
      "   ----- ---------------------------------- 0.4/3.0 MB 513.9 kB/s eta 0:00:05\n",
      "   ------ --------------------------------- 0.5/3.0 MB 512.0 kB/s eta 0:00:05\n",
      "   ------ --------------------------------- 0.5/3.0 MB 526.6 kB/s eta 0:00:05\n",
      "   ------ --------------------------------- 0.5/3.0 MB 507.2 kB/s eta 0:00:05\n",
      "   ------ --------------------------------- 0.5/3.0 MB 509.4 kB/s eta 0:00:05\n",
      "   ------- -------------------------------- 0.5/3.0 MB 506.0 kB/s eta 0:00:05\n",
      "   ------- -------------------------------- 0.6/3.0 MB 505.4 kB/s eta 0:00:05\n",
      "   ------- -------------------------------- 0.6/3.0 MB 502.6 kB/s eta 0:00:05\n",
      "   ------- -------------------------------- 0.6/3.0 MB 502.6 kB/s eta 0:00:05\n",
      "   -------- ------------------------------- 0.6/3.0 MB 505.8 kB/s eta 0:00:05\n",
      "   -------- ------------------------------- 0.6/3.0 MB 505.8 kB/s eta 0:00:05\n",
      "   -------- ------------------------------- 0.7/3.0 MB 493.1 kB/s eta 0:00:05\n",
      "   --------- ------------------------------ 0.7/3.0 MB 493.2 kB/s eta 0:00:05\n",
      "   --------- ------------------------------ 0.7/3.0 MB 493.2 kB/s eta 0:00:05\n",
      "   --------- ------------------------------ 0.7/3.0 MB 482.7 kB/s eta 0:00:05\n",
      "   ---------- ----------------------------- 0.8/3.0 MB 487.9 kB/s eta 0:00:05\n",
      "   ---------- ----------------------------- 0.8/3.0 MB 494.7 kB/s eta 0:00:05\n",
      "   ---------- ----------------------------- 0.8/3.0 MB 491.5 kB/s eta 0:00:05\n",
      "   ----------- ---------------------------- 0.8/3.0 MB 491.4 kB/s eta 0:00:05\n",
      "   ----------- ---------------------------- 0.9/3.0 MB 501.7 kB/s eta 0:00:05\n",
      "   ------------ --------------------------- 0.9/3.0 MB 505.7 kB/s eta 0:00:05\n",
      "   ------------ --------------------------- 0.9/3.0 MB 509.5 kB/s eta 0:00:05\n",
      "   ------------- -------------------------- 1.0/3.0 MB 513.4 kB/s eta 0:00:04\n",
      "   ------------- -------------------------- 1.0/3.0 MB 516.8 kB/s eta 0:00:04\n",
      "   ------------- -------------------------- 1.0/3.0 MB 525.3 kB/s eta 0:00:04\n",
      "   -------------- ------------------------- 1.1/3.0 MB 522.2 kB/s eta 0:00:04\n",
      "   -------------- ------------------------- 1.1/3.0 MB 531.1 kB/s eta 0:00:04\n",
      "   --------------- ------------------------ 1.1/3.0 MB 533.8 kB/s eta 0:00:04\n",
      "   --------------- ------------------------ 1.2/3.0 MB 545.9 kB/s eta 0:00:04\n",
      "   ---------------- ----------------------- 1.2/3.0 MB 548.2 kB/s eta 0:00:04\n",
      "   ----------------- ---------------------- 1.3/3.0 MB 560.4 kB/s eta 0:00:04\n",
      "   ----------------- ---------------------- 1.3/3.0 MB 574.4 kB/s eta 0:00:03\n",
      "   ------------------ --------------------- 1.4/3.0 MB 585.4 kB/s eta 0:00:03\n",
      "   ------------------- -------------------- 1.4/3.0 MB 595.3 kB/s eta 0:00:03\n",
      "   -------------------- ------------------- 1.5/3.0 MB 613.4 kB/s eta 0:00:03\n",
      "   --------------------- ------------------ 1.6/3.0 MB 622.7 kB/s eta 0:00:03\n",
      "   ---------------------- ----------------- 1.7/3.0 MB 639.3 kB/s eta 0:00:03\n",
      "   ----------------------- ---------------- 1.7/3.0 MB 655.4 kB/s eta 0:00:02\n",
      "   ------------------------ --------------- 1.8/3.0 MB 670.5 kB/s eta 0:00:02\n",
      "   ------------------------- -------------- 1.9/3.0 MB 685.1 kB/s eta 0:00:02\n",
      "   -------------------------- ------------- 2.0/3.0 MB 691.6 kB/s eta 0:00:02\n",
      "   --------------------------- ------------ 2.0/3.0 MB 705.2 kB/s eta 0:00:02\n",
      "   --------------------------- ------------ 2.1/3.0 MB 715.1 kB/s eta 0:00:02\n",
      "   ---------------------------- ----------- 2.1/3.0 MB 717.4 kB/s eta 0:00:02\n",
      "   ----------------------------- ---------- 2.2/3.0 MB 730.5 kB/s eta 0:00:02\n",
      "   ------------------------------ --------- 2.3/3.0 MB 742.7 kB/s eta 0:00:01\n",
      "   ------------------------------ --------- 2.3/3.0 MB 740.8 kB/s eta 0:00:01\n",
      "   ------------------------------- -------- 2.4/3.0 MB 752.5 kB/s eta 0:00:01\n",
      "   -------------------------------- ------- 2.4/3.0 MB 760.6 kB/s eta 0:00:01\n",
      "   --------------------------------- ------ 2.5/3.0 MB 765.6 kB/s eta 0:00:01\n",
      "   --------------------------------- ------ 2.5/3.0 MB 764.0 kB/s eta 0:00:01\n",
      "   ---------------------------------- ----- 2.6/3.0 MB 768.6 kB/s eta 0:00:01\n",
      "   ----------------------------------- ---- 2.7/3.0 MB 782.1 kB/s eta 0:00:01\n",
      "   ------------------------------------ --- 2.7/3.0 MB 786.3 kB/s eta 0:00:01\n",
      "   ------------------------------------ --- 2.8/3.0 MB 790.4 kB/s eta 0:00:01\n",
      "   ------------------------------------- -- 2.8/3.0 MB 795.1 kB/s eta 0:00:01\n",
      "   -------------------------------------- - 2.9/3.0 MB 801.1 kB/s eta 0:00:01\n",
      "   ---------------------------------------  2.9/3.0 MB 811.3 kB/s eta 0:00:01\n",
      "   ---------------------------------------- 3.0/3.0 MB 814.6 kB/s eta 0:00:00\n",
      "Installing collected packages: h5py\n",
      "Successfully installed h5py-3.11.0\n",
      "Requirement already satisfied: pip in c:\\users\\titom\\anaconda3\\envs\\cellpose\\lib\\site-packages (23.2.1)\n",
      "Collecting pip\n",
      "  Obtaining dependency information for pip from https://files.pythonhosted.org/packages/8a/6a/19e9fe04fca059ccf770861c7d5721ab4c2aebc539889e97c7977528a53b/pip-24.0-py3-none-any.whl.metadata\n",
      "  Downloading pip-24.0-py3-none-any.whl.metadata (3.6 kB)\n",
      "Downloading pip-24.0-py3-none-any.whl (2.1 MB)\n",
      "   ---------------------------------------- 0.0/2.1 MB ? eta -:--:--\n",
      "   ---------------------------------------- 0.0/2.1 MB ? eta -:--:--\n",
      "   ---------------------------------------- 0.0/2.1 MB ? eta -:--:--\n",
      "    --------------------------------------- 0.0/2.1 MB 445.2 kB/s eta 0:00:05\n",
      "   - -------------------------------------- 0.1/2.1 MB 409.6 kB/s eta 0:00:06\n",
      "   -- ------------------------------------- 0.1/2.1 MB 598.8 kB/s eta 0:00:04\n",
      "   -- ------------------------------------- 0.1/2.1 MB 655.8 kB/s eta 0:00:03\n",
      "   --- ------------------------------------ 0.2/2.1 MB 655.9 kB/s eta 0:00:03\n",
      "   --- ------------------------------------ 0.2/2.1 MB 657.3 kB/s eta 0:00:03\n",
      "   ------ --------------------------------- 0.3/2.1 MB 846.5 kB/s eta 0:00:03\n",
      "   ------- -------------------------------- 0.4/2.1 MB 867.0 kB/s eta 0:00:02\n",
      "   --------- ------------------------------ 0.5/2.1 MB 962.6 kB/s eta 0:00:02\n",
      "   ----------- ---------------------------- 0.6/2.1 MB 1.1 MB/s eta 0:00:02\n",
      "   ------------- -------------------------- 0.7/2.1 MB 1.2 MB/s eta 0:00:02\n",
      "   ---------------- ----------------------- 0.9/2.1 MB 1.3 MB/s eta 0:00:01\n",
      "   ------------------ --------------------- 1.0/2.1 MB 1.3 MB/s eta 0:00:01\n",
      "   -------------------- ------------------- 1.1/2.1 MB 1.4 MB/s eta 0:00:01\n",
      "   --------------------- ------------------ 1.1/2.1 MB 1.4 MB/s eta 0:00:01\n",
      "   ----------------------- ---------------- 1.2/2.1 MB 1.4 MB/s eta 0:00:01\n",
      "   ------------------------ --------------- 1.3/2.1 MB 1.4 MB/s eta 0:00:01\n",
      "   -------------------------- ------------- 1.4/2.1 MB 1.4 MB/s eta 0:00:01\n",
      "   ---------------------------- ----------- 1.5/2.1 MB 1.5 MB/s eta 0:00:01\n",
      "   ------------------------------ --------- 1.6/2.1 MB 1.5 MB/s eta 0:00:01\n",
      "   ------------------------------- -------- 1.7/2.1 MB 1.5 MB/s eta 0:00:01\n",
      "   --------------------------------- ------ 1.8/2.1 MB 1.5 MB/s eta 0:00:01\n",
      "   ------------------------------------ --- 1.9/2.1 MB 1.6 MB/s eta 0:00:01\n",
      "   -------------------------------------- - 2.0/2.1 MB 1.6 MB/s eta 0:00:01\n",
      "   ---------------------------------------  2.1/2.1 MB 1.6 MB/s eta 0:00:01\n",
      "   ---------------------------------------- 2.1/2.1 MB 1.6 MB/s eta 0:00:00\n"
     ]
    },
    {
     "name": "stderr",
     "output_type": "stream",
     "text": [
      "ERROR: To modify pip, please run the following command:\n",
      "C:\\Users\\titom\\anaconda3\\envs\\cellpose\\python.exe -m pip install --upgrade pip\n"
     ]
    },
    {
     "name": "stdout",
     "output_type": "stream",
     "text": [
      "Requirement already satisfied: Pillow in c:\\users\\titom\\anaconda3\\envs\\cellpose\\lib\\site-packages (9.3.0)\n",
      "Collecting Pillow\n",
      "  Obtaining dependency information for Pillow from https://files.pythonhosted.org/packages/9c/52/d00d737c7e8143582090abf2d5eef9712422e7677ef721450abc1a1676bc/pillow-10.3.0-cp38-cp38-win_amd64.whl.metadata\n",
      "  Downloading pillow-10.3.0-cp38-cp38-win_amd64.whl.metadata (9.4 kB)\n",
      "Downloading pillow-10.3.0-cp38-cp38-win_amd64.whl (2.5 MB)\n",
      "   ---------------------------------------- 0.0/2.5 MB ? eta -:--:--\n",
      "   ---------------------------------------- 0.0/2.5 MB ? eta -:--:--\n",
      "   ---------------------------------------- 0.0/2.5 MB 435.7 kB/s eta 0:00:06\n",
      "   ---------------------------------------- 0.0/2.5 MB 435.7 kB/s eta 0:00:06\n",
      "   ---------------------------------------- 0.0/2.5 MB 435.7 kB/s eta 0:00:06\n",
      "    --------------------------------------- 0.0/2.5 MB 178.6 kB/s eta 0:00:14\n",
      "    --------------------------------------- 0.1/2.5 MB 218.8 kB/s eta 0:00:12\n",
      "   - -------------------------------------- 0.1/2.5 MB 270.5 kB/s eta 0:00:10\n",
      "   - -------------------------------------- 0.1/2.5 MB 275.8 kB/s eta 0:00:09\n",
      "   - -------------------------------------- 0.1/2.5 MB 297.7 kB/s eta 0:00:09\n",
      "   - -------------------------------------- 0.1/2.5 MB 297.7 kB/s eta 0:00:09\n",
      "   - -------------------------------------- 0.1/2.5 MB 257.8 kB/s eta 0:00:10\n",
      "   - -------------------------------------- 0.1/2.5 MB 257.8 kB/s eta 0:00:10\n",
      "   -- ------------------------------------- 0.1/2.5 MB 243.4 kB/s eta 0:00:10\n",
      "   -- ------------------------------------- 0.2/2.5 MB 252.2 kB/s eta 0:00:10\n",
      "   -- ------------------------------------- 0.2/2.5 MB 252.2 kB/s eta 0:00:10\n",
      "   -- ------------------------------------- 0.2/2.5 MB 233.1 kB/s eta 0:00:11\n",
      "   ---- ----------------------------------- 0.3/2.5 MB 321.3 kB/s eta 0:00:08\n",
      "   ---- ----------------------------------- 0.3/2.5 MB 340.5 kB/s eta 0:00:07\n",
      "   ----- ---------------------------------- 0.3/2.5 MB 388.2 kB/s eta 0:00:06\n",
      "   ----- ---------------------------------- 0.3/2.5 MB 388.2 kB/s eta 0:00:06\n",
      "   ----- ---------------------------------- 0.4/2.5 MB 377.6 kB/s eta 0:00:06\n",
      "   ----- ---------------------------------- 0.4/2.5 MB 364.2 kB/s eta 0:00:06\n",
      "   ------ --------------------------------- 0.4/2.5 MB 361.9 kB/s eta 0:00:06\n",
      "   ------ --------------------------------- 0.4/2.5 MB 361.9 kB/s eta 0:00:06\n",
      "   ------ --------------------------------- 0.4/2.5 MB 365.0 kB/s eta 0:00:06\n",
      "   ------ --------------------------------- 0.4/2.5 MB 349.5 kB/s eta 0:00:07\n",
      "   ------- -------------------------------- 0.5/2.5 MB 356.8 kB/s eta 0:00:06\n",
      "   ------- -------------------------------- 0.5/2.5 MB 383.7 kB/s eta 0:00:06\n",
      "   -------- ------------------------------- 0.6/2.5 MB 408.7 kB/s eta 0:00:05\n",
      "   --------- ------------------------------ 0.6/2.5 MB 414.4 kB/s eta 0:00:05\n",
      "   --------- ------------------------------ 0.6/2.5 MB 417.7 kB/s eta 0:00:05\n",
      "   ---------- ----------------------------- 0.6/2.5 MB 429.9 kB/s eta 0:00:05\n",
      "   ---------- ----------------------------- 0.7/2.5 MB 436.9 kB/s eta 0:00:05\n",
      "   ----------- ---------------------------- 0.7/2.5 MB 443.5 kB/s eta 0:00:05\n",
      "   ----------- ---------------------------- 0.7/2.5 MB 451.9 kB/s eta 0:00:04\n",
      "   ----------- ---------------------------- 0.7/2.5 MB 449.6 kB/s eta 0:00:04\n",
      "   ------------ --------------------------- 0.8/2.5 MB 453.2 kB/s eta 0:00:04\n",
      "   ------------ --------------------------- 0.8/2.5 MB 454.7 kB/s eta 0:00:04\n",
      "   ------------- -------------------------- 0.9/2.5 MB 473.0 kB/s eta 0:00:04\n",
      "   -------------- ------------------------- 0.9/2.5 MB 499.8 kB/s eta 0:00:04\n",
      "   --------------- ------------------------ 1.0/2.5 MB 507.9 kB/s eta 0:00:04\n",
      "   ---------------- ----------------------- 1.0/2.5 MB 522.1 kB/s eta 0:00:03\n",
      "   ---------------- ----------------------- 1.0/2.5 MB 521.3 kB/s eta 0:00:03\n",
      "   ---------------- ----------------------- 1.1/2.5 MB 524.4 kB/s eta 0:00:03\n",
      "   ----------------- ---------------------- 1.1/2.5 MB 527.3 kB/s eta 0:00:03\n",
      "   ------------------ --------------------- 1.1/2.5 MB 538.9 kB/s eta 0:00:03\n",
      "   ------------------- -------------------- 1.2/2.5 MB 551.6 kB/s eta 0:00:03\n",
      "   ------------------- -------------------- 1.3/2.5 MB 567.1 kB/s eta 0:00:03\n",
      "   -------------------- ------------------- 1.3/2.5 MB 578.7 kB/s eta 0:00:03\n",
      "   --------------------- ------------------ 1.4/2.5 MB 592.9 kB/s eta 0:00:02\n",
      "   ---------------------- ----------------- 1.4/2.5 MB 602.9 kB/s eta 0:00:02\n",
      "   ---------------------- ----------------- 1.5/2.5 MB 604.1 kB/s eta 0:00:02\n",
      "   ----------------------- ---------------- 1.5/2.5 MB 601.1 kB/s eta 0:00:02\n",
      "   ----------------------- ---------------- 1.5/2.5 MB 601.9 kB/s eta 0:00:02\n",
      "   ------------------------ --------------- 1.6/2.5 MB 611.1 kB/s eta 0:00:02\n",
      "   ------------------------- -------------- 1.6/2.5 MB 611.9 kB/s eta 0:00:02\n",
      "   ------------------------- -------------- 1.6/2.5 MB 616.7 kB/s eta 0:00:02\n",
      "   -------------------------- ------------- 1.7/2.5 MB 617.4 kB/s eta 0:00:02\n",
      "   -------------------------- ------------- 1.7/2.5 MB 613.9 kB/s eta 0:00:02\n",
      "   --------------------------- ------------ 1.7/2.5 MB 611.4 kB/s eta 0:00:02\n",
      "   --------------------------- ------------ 1.7/2.5 MB 604.9 kB/s eta 0:00:02\n",
      "   --------------------------- ------------ 1.8/2.5 MB 609.1 kB/s eta 0:00:02\n",
      "   ---------------------------- ----------- 1.8/2.5 MB 606.3 kB/s eta 0:00:02\n",
      "   ---------------------------- ----------- 1.8/2.5 MB 607.0 kB/s eta 0:00:02\n",
      "   ----------------------------- ---------- 1.9/2.5 MB 614.7 kB/s eta 0:00:02\n",
      "   ----------------------------- ---------- 1.9/2.5 MB 612.1 kB/s eta 0:00:02\n",
      "   ------------------------------ --------- 1.9/2.5 MB 609.5 kB/s eta 0:00:02\n",
      "   ------------------------------- -------- 2.0/2.5 MB 619.7 kB/s eta 0:00:01\n",
      "   ------------------------------- -------- 2.0/2.5 MB 617.1 kB/s eta 0:00:01\n",
      "   -------------------------------- ------- 2.0/2.5 MB 620.7 kB/s eta 0:00:01\n",
      "   -------------------------------- ------- 2.1/2.5 MB 627.4 kB/s eta 0:00:01\n",
      "   ---------------------------------- ----- 2.2/2.5 MB 646.1 kB/s eta 0:00:01\n",
      "   ---------------------------------- ----- 2.2/2.5 MB 643.4 kB/s eta 0:00:01\n",
      "   ---------------------------------- ----- 2.2/2.5 MB 643.4 kB/s eta 0:00:01\n",
      "   ----------------------------------- ---- 2.2/2.5 MB 634.9 kB/s eta 0:00:01\n",
      "   ----------------------------------- ---- 2.3/2.5 MB 640.9 kB/s eta 0:00:01\n",
      "   ------------------------------------ --- 2.3/2.5 MB 644.0 kB/s eta 0:00:01\n",
      "   ------------------------------------ --- 2.3/2.5 MB 644.1 kB/s eta 0:00:01\n",
      "   -------------------------------------- - 2.4/2.5 MB 652.5 kB/s eta 0:00:01\n",
      "   ---------------------------------------  2.5/2.5 MB 663.7 kB/s eta 0:00:01\n",
      "   ---------------------------------------- 2.5/2.5 MB 664.0 kB/s eta 0:00:00\n",
      "Installing collected packages: Pillow\n",
      "  Attempting uninstall: Pillow\n",
      "    Found existing installation: Pillow 9.3.0\n",
      "    Uninstalling Pillow-9.3.0:\n",
      "      Successfully uninstalled Pillow-9.3.0\n",
      "Successfully installed Pillow-10.3.0\n",
      "Requirement already satisfied: scikit-image in c:\\users\\titom\\anaconda3\\envs\\cellpose\\lib\\site-packages (0.21.0)\n",
      "Requirement already satisfied: numpy>=1.21.1 in c:\\users\\titom\\anaconda3\\envs\\cellpose\\lib\\site-packages (from scikit-image) (1.24.4)\n",
      "Requirement already satisfied: scipy>=1.8 in c:\\users\\titom\\anaconda3\\envs\\cellpose\\lib\\site-packages (from scikit-image) (1.10.1)\n",
      "Requirement already satisfied: networkx>=2.8 in c:\\users\\titom\\anaconda3\\envs\\cellpose\\lib\\site-packages (from scikit-image) (3.1)\n",
      "Requirement already satisfied: pillow>=9.0.1 in c:\\users\\titom\\anaconda3\\envs\\cellpose\\lib\\site-packages (from scikit-image) (10.3.0)\n",
      "Requirement already satisfied: imageio>=2.27 in c:\\users\\titom\\anaconda3\\envs\\cellpose\\lib\\site-packages (from scikit-image) (2.34.0)\n",
      "Requirement already satisfied: tifffile>=2022.8.12 in c:\\users\\titom\\anaconda3\\envs\\cellpose\\lib\\site-packages (from scikit-image) (2023.7.10)\n",
      "Requirement already satisfied: PyWavelets>=1.1.1 in c:\\users\\titom\\anaconda3\\envs\\cellpose\\lib\\site-packages (from scikit-image) (1.4.1)\n",
      "Requirement already satisfied: packaging>=21 in c:\\users\\titom\\anaconda3\\envs\\cellpose\\lib\\site-packages (from scikit-image) (23.1)\n",
      "Requirement already satisfied: lazy_loader>=0.2 in c:\\users\\titom\\anaconda3\\envs\\cellpose\\lib\\site-packages (from scikit-image) (0.3)\n"
     ]
    },
    {
     "name": "stdout",
     "output_type": "stream",
     "text": [
      "Requirement already satisfied: scikit-image in c:\\users\\titom\\anaconda3\\envs\\cellpose\\lib\\site-packages (0.21.0)\n",
      "Requirement already satisfied: numpy>=1.21.1 in c:\\users\\titom\\anaconda3\\envs\\cellpose\\lib\\site-packages (from scikit-image) (1.24.4)\n",
      "Requirement already satisfied: scipy>=1.8 in c:\\users\\titom\\anaconda3\\envs\\cellpose\\lib\\site-packages (from scikit-image) (1.10.1)\n",
      "Requirement already satisfied: networkx>=2.8 in c:\\users\\titom\\anaconda3\\envs\\cellpose\\lib\\site-packages (from scikit-image) (3.1)\n",
      "Requirement already satisfied: pillow>=9.0.1 in c:\\users\\titom\\anaconda3\\envs\\cellpose\\lib\\site-packages (from scikit-image) (10.3.0)\n",
      "Requirement already satisfied: imageio>=2.27 in c:\\users\\titom\\anaconda3\\envs\\cellpose\\lib\\site-packages (from scikit-image) (2.34.0)\n",
      "Requirement already satisfied: tifffile>=2022.8.12 in c:\\users\\titom\\anaconda3\\envs\\cellpose\\lib\\site-packages (from scikit-image) (2023.7.10)\n",
      "Requirement already satisfied: PyWavelets>=1.1.1 in c:\\users\\titom\\anaconda3\\envs\\cellpose\\lib\\site-packages (from scikit-image) (1.4.1)\n",
      "Requirement already satisfied: packaging>=21 in c:\\users\\titom\\anaconda3\\envs\\cellpose\\lib\\site-packages (from scikit-image) (23.1)\n",
      "Requirement already satisfied: lazy_loader>=0.2 in c:\\users\\titom\\anaconda3\\envs\\cellpose\\lib\\site-packages (from scikit-image) (0.3)\n",
      "Requirement already satisfied: tifffile in c:\\users\\titom\\anaconda3\\envs\\cellpose\\lib\\site-packages (2023.7.10)\n",
      "Requirement already satisfied: numpy in c:\\users\\titom\\anaconda3\\envs\\cellpose\\lib\\site-packages (from tifffile) (1.24.4)\n"
     ]
    }
   ],
   "source": [
    "# Install all the required packages\n",
    "!pip install h5py\n",
    "!pip install --upgrade pip\n",
    "!pip install --upgrade Pillow\n",
    "!pip install -U scikit-image\n",
    "!pip install --upgrade scikit-image\n",
    "!pip install tifffile"
   ]
  },
  {
   "cell_type": "code",
   "execution_count": 3,
   "id": "4e1e190a",
   "metadata": {},
   "outputs": [
    {
     "name": "stderr",
     "output_type": "stream",
     "text": [
      "C:\\Users\\titom\\anaconda3\\Lib\\site-packages\\paramiko\\transport.py:219: CryptographyDeprecationWarning: Blowfish has been deprecated\n",
      "  \"class\": algorithms.Blowfish,\n"
     ]
    }
   ],
   "source": [
    "# Import the libraries\n",
    "import h5py\n",
    "import os\n",
    "import skimage\n",
    "from skimage import io, transform, measure\n",
    "import numpy as np\n",
    "import tifffile"
   ]
  },
  {
   "cell_type": "code",
   "execution_count": 4,
   "id": "ff68ea65",
   "metadata": {
    "scrolled": true
   },
   "outputs": [
    {
     "data": {
      "text/plain": [
       "['.ipynb_checkpoints',\n",
       " '1st_trial',\n",
       " '2nd_trial',\n",
       " '3rd_trial',\n",
       " '4th_trial',\n",
       " '5th_trial_elong',\n",
       " '5th_trial_elongated_wrongone',\n",
       " '6th_trial',\n",
       " 'notes.txt',\n",
       " 'Outputs_Excels',\n",
       " 'segmentation_quality_check.ipynb']"
      ]
     },
     "execution_count": 4,
     "metadata": {},
     "output_type": "execute_result"
    }
   ],
   "source": [
    "# See which models you have in the folder named \"models\".\n",
    "os.listdir(\".\")\n",
    "\n",
    "#os.listdir(r\"/media/maryam/Data/Alvaro/transferLearning_Pytorch3DUnet\")\n"
   ]
  },
  {
   "cell_type": "code",
   "execution_count": 5,
   "id": "0c726535",
   "metadata": {
    "scrolled": true
   },
   "outputs": [],
   "source": [
    "import os\n",
    "import h5py\n",
    "import tifffile\n",
    "import numpy as np\n",
    "\n",
    "def convert_h5_to_tif_3d(h5_file_path, tif_file_path):\n",
    "    with h5py.File(h5_file_path, 'r') as h5_file:\n",
    "        tifffile.imwrite(tif_file_path, h5_file['predictions'], imagej=True) # If gt, put \"label\"\n",
    "\n",
    "def process_folders(folder_path):\n",
    "    for root, dirs, files in os.walk(folder_path):\n",
    "        for directory in dirs:\n",
    "            if directory == 'outputPredicted_G':\n",
    "                dir_path = os.path.join(root, directory)\n",
    "                for filename in os.listdir(dir_path):\n",
    "                    if filename.endswith('.h5'):\n",
    "                        h5_file_path = os.path.join(dir_path, filename)\n",
    "                        tif_file_path = os.path.join(dir_path, filename.replace('.h5', '.tif'))\n",
    "                        convert_h5_to_tif_3d(h5_file_path, tif_file_path)\n",
    "\n",
    "folder_path = \".\"\n",
    "process_folders(folder_path)\n"
   ]
  },
  {
   "cell_type": "code",
   "execution_count": null,
   "id": "989d87ef-dbfd-4c83-b01a-80e05b8098e5",
   "metadata": {
    "scrolled": true
   },
   "outputs": [],
   "source": [
    "#This is done to delete all the cells touching the boundaries of the image, \n",
    "#but we are not doing it now, as we believe our model will be good enough.\n",
    "\n",
    "'''\n",
    "import tifffile\n",
    "import numpy as np\n",
    "from scipy.ndimage import binary_erosion\n",
    "# Function to remove labels touching the borders\n",
    "def get_edge_labels(image):\n",
    "    # Identifying all unique labels in the image\n",
    "    unique_labels = np.unique(image)\n",
    "    # Creating a mask for edge-touching labels\n",
    "    edge_touching = np.zeros_like(image, dtype=bool)\n",
    "    edge_touching[0, :] = edge_touching[-1, :] = True\n",
    "    edge_touching[:, 0] = edge_touching[:, -1] = True\n",
    "    edge_touching_mask = image * edge_touching\n",
    "    # Identifying labels touching the edges\n",
    "    edge_labels = np.unique(edge_touching_mask)\n",
    "    return edge_labels\n",
    "def remove_labels(image, ids):\n",
    "    # Removing edge labels\n",
    "    for label in ids:\n",
    "        if label != 0:  # Assuming 0 is the background label\n",
    "            image[image == label] = 0\n",
    "    return image\n",
    "# Reading the TIFF file\n",
    "file_name = \"rawWD3.2_21-03_WT_MP_cp_masks.tif\"\n",
    "with tifffile.TiffFile(file_name) as tif:\n",
    "    images = tif.asarray()\n",
    "\n",
    "# Processing each image in the stack\n",
    "#edge_ids = np.concatenate([get_edge_labels(image) for image in images])\n",
    "#processed_images = np.array([remove_labels(image, edge_ids) for image in images])\n",
    "# Saving the processed stack to a new TIFF file\n",
    "output_file_name = \"processed_\" + file_name\n",
    "tifffile.imsave(output_file_name, processed_images)\n",
    "'''"
   ]
  },
  {
   "cell_type": "markdown",
   "id": "c9c66f47-f3d6-41a3-8d20-b4f4db648ae8",
   "metadata": {
    "jp-MarkdownHeadingCollapsed": true
   },
   "source": [
    "### CELLPOSE to label your \".tiff\" files (NOT YET IMPLEMENTED)"
   ]
  },
  {
   "cell_type": "code",
   "execution_count": 18,
   "id": "2444a3a3-060e-4c25-b4ef-7f7012e9ae97",
   "metadata": {},
   "outputs": [
    {
     "name": "stdout",
     "output_type": "stream",
     "text": [
      "Disc1_decon_c1_t1.tif\n",
      "C:\\Users\\AdaLovelace\\Documents\\Data\\AlvaroTFM-2.5D-option\\AlvaroTFM\\models\\segmentations\\outputPredicted\\Disc1_decon_c1_t1.tif\n"
     ]
    },
    {
     "name": "stderr",
     "output_type": "stream",
     "text": [
      "100%|████████████████████████████████████████████████████████████████████████████████| 99/99 [00:00<00:00, 3077.85it/s]\n"
     ]
    },
    {
     "name": "stdout",
     "output_type": "stream",
     "text": [
      "Disc1_decon_c1_t5.tif\n",
      "C:\\Users\\AdaLovelace\\Documents\\Data\\AlvaroTFM-2.5D-option\\AlvaroTFM\\models\\segmentations\\outputPredicted\\Disc1_decon_c1_t5.tif\n"
     ]
    },
    {
     "name": "stderr",
     "output_type": "stream",
     "text": [
      "100%|████████████████████████████████████████████████████████████████████████████████| 99/99 [00:00<00:00, 2404.81it/s]\n"
     ]
    },
    {
     "name": "stdout",
     "output_type": "stream",
     "text": [
      "Disc1_decon_c1_t9.tif\n",
      "C:\\Users\\AdaLovelace\\Documents\\Data\\AlvaroTFM-2.5D-option\\AlvaroTFM\\models\\segmentations\\outputPredicted\\Disc1_decon_c1_t9.tif\n"
     ]
    },
    {
     "name": "stderr",
     "output_type": "stream",
     "text": [
      "100%|████████████████████████████████████████████████████████████████████████████████| 99/99 [00:00<00:00, 2924.88it/s]\n"
     ]
    },
    {
     "name": "stdout",
     "output_type": "stream",
     "text": [
      "WD1.1_17-03_WT_MP.tif\n",
      "C:\\Users\\AdaLovelace\\Documents\\Data\\AlvaroTFM-2.5D-option\\AlvaroTFM\\models\\segmentations\\outputPredicted\\WD1.1_17-03_WT_MP.tif\n"
     ]
    },
    {
     "name": "stderr",
     "output_type": "stream",
     "text": [
      "100%|██████████████████████████████████████████████████████████████████████████████| 105/105 [00:00<00:00, 1782.89it/s]\n",
      "C:\\Users\\AdaLovelace\\AppData\\Local\\Temp\\ipykernel_15908\\2726396163.py:21: UserWarning: C:\\Users\\AdaLovelace\\Documents\\Data\\AlvaroTFM-2.5D-option\\AlvaroTFM\\models\\segmentations\\outputPredicted\\WD1.1_17-03_WT_MP_masks.tif is a low contrast image\n",
      "  skio.imsave(os.path.splitext(x)[0] + '_masks.tif', masks)\n"
     ]
    },
    {
     "name": "stdout",
     "output_type": "stream",
     "text": [
      "WD1_15-02_WT_confocalonly.tif\n",
      "C:\\Users\\AdaLovelace\\Documents\\Data\\AlvaroTFM-2.5D-option\\AlvaroTFM\\models\\segmentations\\outputPredicted\\WD1_15-02_WT_confocalonly.tif\n"
     ]
    },
    {
     "name": "stderr",
     "output_type": "stream",
     "text": [
      "100%|████████████████████████████████████████████████████████████████████████████████| 36/36 [00:00<00:00, 1402.13it/s]\n",
      "C:\\Users\\AdaLovelace\\AppData\\Local\\Temp\\ipykernel_15908\\2726396163.py:21: UserWarning: C:\\Users\\AdaLovelace\\Documents\\Data\\AlvaroTFM-2.5D-option\\AlvaroTFM\\models\\segmentations\\outputPredicted\\WD1_15-02_WT_confocalonly_masks.tif is a low contrast image\n",
      "  skio.imsave(os.path.splitext(x)[0] + '_masks.tif', masks)\n"
     ]
    },
    {
     "name": "stdout",
     "output_type": "stream",
     "text": [
      "WD2.1_21-02_WT_confocalonly.tif\n",
      "C:\\Users\\AdaLovelace\\Documents\\Data\\AlvaroTFM-2.5D-option\\AlvaroTFM\\models\\segmentations\\outputPredicted\\WD2.1_21-02_WT_confocalonly.tif\n"
     ]
    },
    {
     "name": "stderr",
     "output_type": "stream",
     "text": [
      "100%|████████████████████████████████████████████████████████████████████████████████| 38/38 [00:00<00:00, 1914.49it/s]\n",
      "C:\\Users\\AdaLovelace\\AppData\\Local\\Temp\\ipykernel_15908\\2726396163.py:21: UserWarning: C:\\Users\\AdaLovelace\\Documents\\Data\\AlvaroTFM-2.5D-option\\AlvaroTFM\\models\\segmentations\\outputPredicted\\WD2.1_21-02_WT_confocalonly_masks.tif is a low contrast image\n",
      "  skio.imsave(os.path.splitext(x)[0] + '_masks.tif', masks)\n"
     ]
    },
    {
     "name": "stdout",
     "output_type": "stream",
     "text": [
      "WD2.2_14-03_WT_MP.tif\n",
      "C:\\Users\\AdaLovelace\\Documents\\Data\\AlvaroTFM-2.5D-option\\AlvaroTFM\\models\\segmentations\\outputPredicted\\WD2.2_14-03_WT_MP.tif\n"
     ]
    },
    {
     "name": "stderr",
     "output_type": "stream",
     "text": [
      "100%|████████████████████████████████████████████████████████████████████████████████| 59/59 [00:00<00:00, 1479.51it/s]\n",
      "C:\\Users\\AdaLovelace\\AppData\\Local\\Temp\\ipykernel_15908\\2726396163.py:21: UserWarning: C:\\Users\\AdaLovelace\\Documents\\Data\\AlvaroTFM-2.5D-option\\AlvaroTFM\\models\\segmentations\\outputPredicted\\WD2.2_14-03_WT_MP_masks.tif is a low contrast image\n",
      "  skio.imsave(os.path.splitext(x)[0] + '_masks.tif', masks)\n"
     ]
    },
    {
     "name": "stdout",
     "output_type": "stream",
     "text": [
      "WD2.2_21-02_WT_confocalonly.tif\n",
      "C:\\Users\\AdaLovelace\\Documents\\Data\\AlvaroTFM-2.5D-option\\AlvaroTFM\\models\\segmentations\\outputPredicted\\WD2.2_21-02_WT_confocalonly.tif\n"
     ]
    },
    {
     "name": "stderr",
     "output_type": "stream",
     "text": [
      "100%|████████████████████████████████████████████████████████████████████████████████| 39/39 [00:00<00:00, 1773.03it/s]\n",
      "C:\\Users\\AdaLovelace\\AppData\\Local\\Temp\\ipykernel_15908\\2726396163.py:21: UserWarning: C:\\Users\\AdaLovelace\\Documents\\Data\\AlvaroTFM-2.5D-option\\AlvaroTFM\\models\\segmentations\\outputPredicted\\WD2.2_21-02_WT_confocalonly_masks.tif is a low contrast image\n",
      "  skio.imsave(os.path.splitext(x)[0] + '_masks.tif', masks)\n"
     ]
    },
    {
     "name": "stdout",
     "output_type": "stream",
     "text": [
      "WD3.2_21-03_WT_MP.tif\n",
      "C:\\Users\\AdaLovelace\\Documents\\Data\\AlvaroTFM-2.5D-option\\AlvaroTFM\\models\\segmentations\\outputPredicted\\WD3.2_21-03_WT_MP.tif\n"
     ]
    },
    {
     "name": "stderr",
     "output_type": "stream",
     "text": [
      "100%|████████████████████████████████████████████████████████████████████████████████| 60/60 [00:00<00:00, 2014.22it/s]\n",
      "C:\\Users\\AdaLovelace\\AppData\\Local\\Temp\\ipykernel_15908\\2726396163.py:21: UserWarning: C:\\Users\\AdaLovelace\\Documents\\Data\\AlvaroTFM-2.5D-option\\AlvaroTFM\\models\\segmentations\\outputPredicted\\WD3.2_21-03_WT_MP_masks.tif is a low contrast image\n",
      "  skio.imsave(os.path.splitext(x)[0] + '_masks.tif', masks)\n"
     ]
    },
    {
     "name": "stdout",
     "output_type": "stream",
     "text": [
      "Disc1_decon_c1_t1_XY_Z12.tif\n",
      "C:\\Users\\AdaLovelace\\Documents\\Data\\AlvaroTFM-2.5D-option\\AlvaroTFM\\models\\segmentations\\q\\outputPredicted\\Disc1_decon_c1_t1_XY_Z12.tif\n"
     ]
    },
    {
     "ename": "error",
     "evalue": "OpenCV(4.9.0) D:\\a\\opencv-python\\opencv-python\\opencv\\modules\\imgproc\\src\\resize.cpp:4155: error: (-215:Assertion failed) inv_scale_x > 0 in function 'cv::resize'\n",
     "output_type": "error",
     "traceback": [
      "\u001b[1;31m---------------------------------------------------------------------------\u001b[0m",
      "\u001b[1;31merror\u001b[0m                                     Traceback (most recent call last)",
      "Cell \u001b[1;32mIn[18], line 28\u001b[0m\n\u001b[0;32m     26\u001b[0m folder_path \u001b[38;5;241m=\u001b[39m \u001b[38;5;124mr\u001b[39m\u001b[38;5;124m\"\u001b[39m\u001b[38;5;124mC:\u001b[39m\u001b[38;5;124m\\\u001b[39m\u001b[38;5;124mUsers\u001b[39m\u001b[38;5;124m\\\u001b[39m\u001b[38;5;124mAdaLovelace\u001b[39m\u001b[38;5;124m\\\u001b[39m\u001b[38;5;124mDocuments\u001b[39m\u001b[38;5;124m\\\u001b[39m\u001b[38;5;124mData\u001b[39m\u001b[38;5;124m\\\u001b[39m\u001b[38;5;124mAlvaroTFM-2.5D-option\u001b[39m\u001b[38;5;124m\\\u001b[39m\u001b[38;5;124mAlvaroTFM\u001b[39m\u001b[38;5;124m\"\u001b[39m\n\u001b[0;32m     27\u001b[0m \u001b[38;5;66;03m#folder_path = r\"C:\\Users\\titom\\Desktop\\TFM new stuff\\AnalyzingGraph\\models\"\u001b[39;00m\n\u001b[1;32m---> 28\u001b[0m \u001b[43mcellpose_labeler\u001b[49m\u001b[43m(\u001b[49m\u001b[43mfolder_path\u001b[49m\u001b[43m)\u001b[49m\n",
      "Cell \u001b[1;32mIn[18], line 18\u001b[0m, in \u001b[0;36mcellpose_labeler\u001b[1;34m(folder_path)\u001b[0m\n\u001b[0;32m     16\u001b[0m \u001b[38;5;28mprint\u001b[39m(x)\n\u001b[0;32m     17\u001b[0m img \u001b[38;5;241m=\u001b[39m io\u001b[38;5;241m.\u001b[39mimread(x)\n\u001b[1;32m---> 18\u001b[0m masks, flows, styles, diams \u001b[38;5;241m=\u001b[39m \u001b[43mmodel\u001b[49m\u001b[38;5;241;43m.\u001b[39;49m\u001b[43meval\u001b[49m\u001b[43m(\u001b[49m\u001b[43mimg\u001b[49m\u001b[43m,\u001b[49m\u001b[43m \u001b[49m\u001b[43mdiameter\u001b[49m\u001b[38;5;241;43m=\u001b[39;49m\u001b[38;5;241;43m64\u001b[39;49m\u001b[43m,\u001b[49m\u001b[43m \u001b[49m\u001b[43mchannels\u001b[49m\u001b[38;5;241;43m=\u001b[39;49m\u001b[38;5;28;43;01mNone\u001b[39;49;00m\u001b[43m,\u001b[49m\u001b[43m \u001b[49m\u001b[43manisotropy\u001b[49m\u001b[38;5;241;43m=\u001b[39;49m\u001b[38;5;241;43m10\u001b[39;49m\u001b[43m,\u001b[49m\u001b[43m \u001b[49m\u001b[43mdo_3D\u001b[49m\u001b[38;5;241;43m=\u001b[39;49m\u001b[38;5;28;43;01mTrue\u001b[39;49;00m\u001b[43m,\u001b[49m\u001b[43m \u001b[49m\u001b[43mflow_threshold\u001b[49m\u001b[38;5;241;43m=\u001b[39;49m\u001b[38;5;241;43m0.4\u001b[39;49m\u001b[43m,\u001b[49m\u001b[43m \u001b[49m\u001b[43mstitch_threshold\u001b[49m\u001b[38;5;241;43m=\u001b[39;49m\u001b[38;5;241;43m0.1\u001b[39;49m\u001b[43m,\u001b[49m\u001b[43m \u001b[49m\u001b[43mcellprob_threshold\u001b[49m\u001b[38;5;241;43m=\u001b[39;49m\u001b[38;5;241;43m0\u001b[39;49m\u001b[43m)\u001b[49m\n\u001b[0;32m     20\u001b[0m \u001b[38;5;66;03m# Save the masks and flows as TIFF using skimage.io. Adjust the file names as needed.\u001b[39;00m\n\u001b[0;32m     21\u001b[0m skio\u001b[38;5;241m.\u001b[39mimsave(os\u001b[38;5;241m.\u001b[39mpath\u001b[38;5;241m.\u001b[39msplitext(x)[\u001b[38;5;241m0\u001b[39m] \u001b[38;5;241m+\u001b[39m \u001b[38;5;124m'\u001b[39m\u001b[38;5;124m_masks.tif\u001b[39m\u001b[38;5;124m'\u001b[39m, masks)\n",
      "File \u001b[1;32m~\\anaconda3\\envs\\cellpose\\lib\\site-packages\\cellpose\\models.py:239\u001b[0m, in \u001b[0;36mCellpose.eval\u001b[1;34m(self, x, batch_size, channels, channel_axis, z_axis, invert, normalize, diameter, do_3D, anisotropy, net_avg, augment, tile, tile_overlap, resample, interp, flow_threshold, cellprob_threshold, min_size, stitch_threshold, rescale, progress, model_loaded)\u001b[0m\n\u001b[0;32m    237\u001b[0m tic \u001b[38;5;241m=\u001b[39m time\u001b[38;5;241m.\u001b[39mtime()\n\u001b[0;32m    238\u001b[0m models_logger\u001b[38;5;241m.\u001b[39minfo(\u001b[38;5;124m'\u001b[39m\u001b[38;5;124m~~~ FINDING MASKS ~~~\u001b[39m\u001b[38;5;124m'\u001b[39m)\n\u001b[1;32m--> 239\u001b[0m masks, flows, styles \u001b[38;5;241m=\u001b[39m \u001b[38;5;28;43mself\u001b[39;49m\u001b[38;5;241;43m.\u001b[39;49m\u001b[43mcp\u001b[49m\u001b[38;5;241;43m.\u001b[39;49m\u001b[43meval\u001b[49m\u001b[43m(\u001b[49m\u001b[43mx\u001b[49m\u001b[43m,\u001b[49m\u001b[43m \u001b[49m\n\u001b[0;32m    240\u001b[0m \u001b[43m                                    \u001b[49m\u001b[43mbatch_size\u001b[49m\u001b[38;5;241;43m=\u001b[39;49m\u001b[43mbatch_size\u001b[49m\u001b[43m,\u001b[49m\u001b[43m \u001b[49m\n\u001b[0;32m    241\u001b[0m \u001b[43m                                    \u001b[49m\u001b[43minvert\u001b[49m\u001b[38;5;241;43m=\u001b[39;49m\u001b[43minvert\u001b[49m\u001b[43m,\u001b[49m\u001b[43m \u001b[49m\n\u001b[0;32m    242\u001b[0m \u001b[43m                                    \u001b[49m\u001b[43mnormalize\u001b[49m\u001b[38;5;241;43m=\u001b[39;49m\u001b[43mnormalize\u001b[49m\u001b[43m,\u001b[49m\n\u001b[0;32m    243\u001b[0m \u001b[43m                                    \u001b[49m\u001b[43mdiameter\u001b[49m\u001b[38;5;241;43m=\u001b[39;49m\u001b[43mdiameter\u001b[49m\u001b[43m,\u001b[49m\n\u001b[0;32m    244\u001b[0m \u001b[43m                                    \u001b[49m\u001b[43mrescale\u001b[49m\u001b[38;5;241;43m=\u001b[39;49m\u001b[43mrescale\u001b[49m\u001b[43m,\u001b[49m\u001b[43m \u001b[49m\n\u001b[0;32m    245\u001b[0m \u001b[43m                                    \u001b[49m\u001b[43manisotropy\u001b[49m\u001b[38;5;241;43m=\u001b[39;49m\u001b[43manisotropy\u001b[49m\u001b[43m,\u001b[49m\u001b[43m \u001b[49m\n\u001b[0;32m    246\u001b[0m \u001b[43m                                    \u001b[49m\u001b[43mchannels\u001b[49m\u001b[38;5;241;43m=\u001b[39;49m\u001b[43mchannels\u001b[49m\u001b[43m,\u001b[49m\n\u001b[0;32m    247\u001b[0m \u001b[43m                                    \u001b[49m\u001b[43mchannel_axis\u001b[49m\u001b[38;5;241;43m=\u001b[39;49m\u001b[43mchannel_axis\u001b[49m\u001b[43m,\u001b[49m\u001b[43m \u001b[49m\n\u001b[0;32m    248\u001b[0m \u001b[43m                                    \u001b[49m\u001b[43mz_axis\u001b[49m\u001b[38;5;241;43m=\u001b[39;49m\u001b[43mz_axis\u001b[49m\u001b[43m,\u001b[49m\n\u001b[0;32m    249\u001b[0m \u001b[43m                                    \u001b[49m\u001b[43maugment\u001b[49m\u001b[38;5;241;43m=\u001b[39;49m\u001b[43maugment\u001b[49m\u001b[43m,\u001b[49m\u001b[43m \u001b[49m\n\u001b[0;32m    250\u001b[0m \u001b[43m                                    \u001b[49m\u001b[43mtile\u001b[49m\u001b[38;5;241;43m=\u001b[39;49m\u001b[43mtile\u001b[49m\u001b[43m,\u001b[49m\u001b[43m \u001b[49m\n\u001b[0;32m    251\u001b[0m \u001b[43m                                    \u001b[49m\u001b[43mdo_3D\u001b[49m\u001b[38;5;241;43m=\u001b[39;49m\u001b[43mdo_3D\u001b[49m\u001b[43m,\u001b[49m\u001b[43m \u001b[49m\n\u001b[0;32m    252\u001b[0m \u001b[43m                                    \u001b[49m\u001b[43mnet_avg\u001b[49m\u001b[38;5;241;43m=\u001b[39;49m\u001b[43mnet_avg\u001b[49m\u001b[43m,\u001b[49m\u001b[43m \u001b[49m\n\u001b[0;32m    253\u001b[0m \u001b[43m                                    \u001b[49m\u001b[43mprogress\u001b[49m\u001b[38;5;241;43m=\u001b[39;49m\u001b[43mprogress\u001b[49m\u001b[43m,\u001b[49m\n\u001b[0;32m    254\u001b[0m \u001b[43m                                    \u001b[49m\u001b[43mtile_overlap\u001b[49m\u001b[38;5;241;43m=\u001b[39;49m\u001b[43mtile_overlap\u001b[49m\u001b[43m,\u001b[49m\n\u001b[0;32m    255\u001b[0m \u001b[43m                                    \u001b[49m\u001b[43mresample\u001b[49m\u001b[38;5;241;43m=\u001b[39;49m\u001b[43mresample\u001b[49m\u001b[43m,\u001b[49m\n\u001b[0;32m    256\u001b[0m \u001b[43m                                    \u001b[49m\u001b[43minterp\u001b[49m\u001b[38;5;241;43m=\u001b[39;49m\u001b[43minterp\u001b[49m\u001b[43m,\u001b[49m\n\u001b[0;32m    257\u001b[0m \u001b[43m                                    \u001b[49m\u001b[43mflow_threshold\u001b[49m\u001b[38;5;241;43m=\u001b[39;49m\u001b[43mflow_threshold\u001b[49m\u001b[43m,\u001b[49m\u001b[43m \u001b[49m\n\u001b[0;32m    258\u001b[0m \u001b[43m                                    \u001b[49m\u001b[43mcellprob_threshold\u001b[49m\u001b[38;5;241;43m=\u001b[39;49m\u001b[43mcellprob_threshold\u001b[49m\u001b[43m,\u001b[49m\n\u001b[0;32m    259\u001b[0m \u001b[43m                                    \u001b[49m\u001b[43mmin_size\u001b[49m\u001b[38;5;241;43m=\u001b[39;49m\u001b[43mmin_size\u001b[49m\u001b[43m,\u001b[49m\u001b[43m \u001b[49m\n\u001b[0;32m    260\u001b[0m \u001b[43m                                    \u001b[49m\u001b[43mstitch_threshold\u001b[49m\u001b[38;5;241;43m=\u001b[39;49m\u001b[43mstitch_threshold\u001b[49m\u001b[43m,\u001b[49m\n\u001b[0;32m    261\u001b[0m \u001b[43m                                    \u001b[49m\u001b[43mmodel_loaded\u001b[49m\u001b[38;5;241;43m=\u001b[39;49m\u001b[43mmodel_loaded\u001b[49m\u001b[43m)\u001b[49m\n\u001b[0;32m    262\u001b[0m models_logger\u001b[38;5;241m.\u001b[39minfo(\u001b[38;5;124m'\u001b[39m\u001b[38;5;124m>>>> TOTAL TIME \u001b[39m\u001b[38;5;132;01m%0.2f\u001b[39;00m\u001b[38;5;124m sec\u001b[39m\u001b[38;5;124m'\u001b[39m\u001b[38;5;241m%\u001b[39m(time\u001b[38;5;241m.\u001b[39mtime()\u001b[38;5;241m-\u001b[39mtic0))\n\u001b[0;32m    264\u001b[0m \u001b[38;5;28;01mreturn\u001b[39;00m masks, flows, styles, diams\n",
      "File \u001b[1;32m~\\anaconda3\\envs\\cellpose\\lib\\site-packages\\cellpose\\models.py:552\u001b[0m, in \u001b[0;36mCellposeModel.eval\u001b[1;34m(self, x, batch_size, channels, channel_axis, z_axis, normalize, invert, rescale, diameter, do_3D, anisotropy, net_avg, augment, tile, tile_overlap, resample, interp, flow_threshold, cellprob_threshold, compute_masks, min_size, stitch_threshold, progress, loop_run, model_loaded)\u001b[0m\n\u001b[0;32m    549\u001b[0m     diameter \u001b[38;5;241m=\u001b[39m \u001b[38;5;28mself\u001b[39m\u001b[38;5;241m.\u001b[39mdiam_labels\n\u001b[0;32m    550\u001b[0m     rescale \u001b[38;5;241m=\u001b[39m \u001b[38;5;28mself\u001b[39m\u001b[38;5;241m.\u001b[39mdiam_mean \u001b[38;5;241m/\u001b[39m diameter\n\u001b[1;32m--> 552\u001b[0m masks, styles, dP, cellprob, p \u001b[38;5;241m=\u001b[39m \u001b[38;5;28;43mself\u001b[39;49m\u001b[38;5;241;43m.\u001b[39;49m\u001b[43m_run_cp\u001b[49m\u001b[43m(\u001b[49m\u001b[43mx\u001b[49m\u001b[43m,\u001b[49m\u001b[43m \u001b[49m\n\u001b[0;32m    553\u001b[0m \u001b[43m                                              \u001b[49m\u001b[43mcompute_masks\u001b[49m\u001b[38;5;241;43m=\u001b[39;49m\u001b[43mcompute_masks\u001b[49m\u001b[43m,\u001b[49m\n\u001b[0;32m    554\u001b[0m \u001b[43m                                              \u001b[49m\u001b[43mnormalize\u001b[49m\u001b[38;5;241;43m=\u001b[39;49m\u001b[43mnormalize\u001b[49m\u001b[43m,\u001b[49m\n\u001b[0;32m    555\u001b[0m \u001b[43m                                              \u001b[49m\u001b[43minvert\u001b[49m\u001b[38;5;241;43m=\u001b[39;49m\u001b[43minvert\u001b[49m\u001b[43m,\u001b[49m\n\u001b[0;32m    556\u001b[0m \u001b[43m                                              \u001b[49m\u001b[43mrescale\u001b[49m\u001b[38;5;241;43m=\u001b[39;49m\u001b[43mrescale\u001b[49m\u001b[43m,\u001b[49m\u001b[43m \u001b[49m\n\u001b[0;32m    557\u001b[0m \u001b[43m                                              \u001b[49m\u001b[43mnet_avg\u001b[49m\u001b[38;5;241;43m=\u001b[39;49m\u001b[43mnet_avg\u001b[49m\u001b[43m,\u001b[49m\u001b[43m \u001b[49m\n\u001b[0;32m    558\u001b[0m \u001b[43m                                              \u001b[49m\u001b[43mresample\u001b[49m\u001b[38;5;241;43m=\u001b[39;49m\u001b[43mresample\u001b[49m\u001b[43m,\u001b[49m\n\u001b[0;32m    559\u001b[0m \u001b[43m                                              \u001b[49m\u001b[43maugment\u001b[49m\u001b[38;5;241;43m=\u001b[39;49m\u001b[43maugment\u001b[49m\u001b[43m,\u001b[49m\u001b[43m \u001b[49m\n\u001b[0;32m    560\u001b[0m \u001b[43m                                              \u001b[49m\u001b[43mtile\u001b[49m\u001b[38;5;241;43m=\u001b[39;49m\u001b[43mtile\u001b[49m\u001b[43m,\u001b[49m\u001b[43m \u001b[49m\n\u001b[0;32m    561\u001b[0m \u001b[43m                                              \u001b[49m\u001b[43mtile_overlap\u001b[49m\u001b[38;5;241;43m=\u001b[39;49m\u001b[43mtile_overlap\u001b[49m\u001b[43m,\u001b[49m\n\u001b[0;32m    562\u001b[0m \u001b[43m                                              \u001b[49m\u001b[43mflow_threshold\u001b[49m\u001b[38;5;241;43m=\u001b[39;49m\u001b[43mflow_threshold\u001b[49m\u001b[43m,\u001b[49m\n\u001b[0;32m    563\u001b[0m \u001b[43m                                              \u001b[49m\u001b[43mcellprob_threshold\u001b[49m\u001b[38;5;241;43m=\u001b[39;49m\u001b[43mcellprob_threshold\u001b[49m\u001b[43m,\u001b[49m\u001b[43m \u001b[49m\n\u001b[0;32m    564\u001b[0m \u001b[43m                                              \u001b[49m\u001b[43minterp\u001b[49m\u001b[38;5;241;43m=\u001b[39;49m\u001b[43minterp\u001b[49m\u001b[43m,\u001b[49m\n\u001b[0;32m    565\u001b[0m \u001b[43m                                              \u001b[49m\u001b[43mmin_size\u001b[49m\u001b[38;5;241;43m=\u001b[39;49m\u001b[43mmin_size\u001b[49m\u001b[43m,\u001b[49m\u001b[43m \u001b[49m\n\u001b[0;32m    566\u001b[0m \u001b[43m                                              \u001b[49m\u001b[43mdo_3D\u001b[49m\u001b[38;5;241;43m=\u001b[39;49m\u001b[43mdo_3D\u001b[49m\u001b[43m,\u001b[49m\u001b[43m \u001b[49m\n\u001b[0;32m    567\u001b[0m \u001b[43m                                              \u001b[49m\u001b[43manisotropy\u001b[49m\u001b[38;5;241;43m=\u001b[39;49m\u001b[43manisotropy\u001b[49m\u001b[43m,\u001b[49m\n\u001b[0;32m    568\u001b[0m \u001b[43m                                              \u001b[49m\u001b[43mstitch_threshold\u001b[49m\u001b[38;5;241;43m=\u001b[39;49m\u001b[43mstitch_threshold\u001b[49m\u001b[43m,\u001b[49m\n\u001b[0;32m    569\u001b[0m \u001b[43m                                              \u001b[49m\u001b[43m)\u001b[49m\n\u001b[0;32m    571\u001b[0m flows \u001b[38;5;241m=\u001b[39m [plot\u001b[38;5;241m.\u001b[39mdx_to_circ(dP), dP, cellprob, p]\n\u001b[0;32m    572\u001b[0m \u001b[38;5;28;01mreturn\u001b[39;00m masks, flows, styles\n",
      "File \u001b[1;32m~\\anaconda3\\envs\\cellpose\\lib\\site-packages\\cellpose\\models.py:591\u001b[0m, in \u001b[0;36mCellposeModel._run_cp\u001b[1;34m(self, x, compute_masks, normalize, invert, rescale, net_avg, resample, augment, tile, tile_overlap, cellprob_threshold, flow_threshold, min_size, interp, anisotropy, do_3D, stitch_threshold)\u001b[0m\n\u001b[0;32m    589\u001b[0m \u001b[38;5;28;01mif\u001b[39;00m normalize \u001b[38;5;129;01mor\u001b[39;00m invert:\n\u001b[0;32m    590\u001b[0m     img \u001b[38;5;241m=\u001b[39m transforms\u001b[38;5;241m.\u001b[39mnormalize_img(img, invert\u001b[38;5;241m=\u001b[39minvert)\n\u001b[1;32m--> 591\u001b[0m yf, styles \u001b[38;5;241m=\u001b[39m \u001b[38;5;28;43mself\u001b[39;49m\u001b[38;5;241;43m.\u001b[39;49m\u001b[43m_run_3D\u001b[49m\u001b[43m(\u001b[49m\u001b[43mimg\u001b[49m\u001b[43m,\u001b[49m\u001b[43m \u001b[49m\u001b[43mrsz\u001b[49m\u001b[38;5;241;43m=\u001b[39;49m\u001b[43mrescale\u001b[49m\u001b[43m,\u001b[49m\u001b[43m \u001b[49m\u001b[43manisotropy\u001b[49m\u001b[38;5;241;43m=\u001b[39;49m\u001b[43manisotropy\u001b[49m\u001b[43m,\u001b[49m\u001b[43m \u001b[49m\n\u001b[0;32m    592\u001b[0m \u001b[43m                          \u001b[49m\u001b[43mnet_avg\u001b[49m\u001b[38;5;241;43m=\u001b[39;49m\u001b[43mnet_avg\u001b[49m\u001b[43m,\u001b[49m\u001b[43m \u001b[49m\u001b[43maugment\u001b[49m\u001b[38;5;241;43m=\u001b[39;49m\u001b[43maugment\u001b[49m\u001b[43m,\u001b[49m\u001b[43m \u001b[49m\u001b[43mtile\u001b[49m\u001b[38;5;241;43m=\u001b[39;49m\u001b[43mtile\u001b[49m\u001b[43m,\u001b[49m\n\u001b[0;32m    593\u001b[0m \u001b[43m                          \u001b[49m\u001b[43mtile_overlap\u001b[49m\u001b[38;5;241;43m=\u001b[39;49m\u001b[43mtile_overlap\u001b[49m\u001b[43m)\u001b[49m\n\u001b[0;32m    594\u001b[0m cellprob \u001b[38;5;241m=\u001b[39m yf[\u001b[38;5;241m0\u001b[39m][\u001b[38;5;241m-\u001b[39m\u001b[38;5;241m1\u001b[39m] \u001b[38;5;241m+\u001b[39m yf[\u001b[38;5;241m1\u001b[39m][\u001b[38;5;241m-\u001b[39m\u001b[38;5;241m1\u001b[39m] \u001b[38;5;241m+\u001b[39m yf[\u001b[38;5;241m2\u001b[39m][\u001b[38;5;241m-\u001b[39m\u001b[38;5;241m1\u001b[39m] \n\u001b[0;32m    595\u001b[0m dP \u001b[38;5;241m=\u001b[39m np\u001b[38;5;241m.\u001b[39mstack((yf[\u001b[38;5;241m1\u001b[39m][\u001b[38;5;241m0\u001b[39m] \u001b[38;5;241m+\u001b[39m yf[\u001b[38;5;241m2\u001b[39m][\u001b[38;5;241m0\u001b[39m], yf[\u001b[38;5;241m0\u001b[39m][\u001b[38;5;241m0\u001b[39m] \u001b[38;5;241m+\u001b[39m yf[\u001b[38;5;241m2\u001b[39m][\u001b[38;5;241m1\u001b[39m], yf[\u001b[38;5;241m0\u001b[39m][\u001b[38;5;241m1\u001b[39m] \u001b[38;5;241m+\u001b[39m yf[\u001b[38;5;241m1\u001b[39m][\u001b[38;5;241m1\u001b[39m]),\n\u001b[0;32m    596\u001b[0m               axis\u001b[38;5;241m=\u001b[39m\u001b[38;5;241m0\u001b[39m) \u001b[38;5;66;03m# (dZ, dY, dX)\u001b[39;00m\n",
      "File \u001b[1;32m~\\anaconda3\\envs\\cellpose\\lib\\site-packages\\cellpose\\core.py:621\u001b[0m, in \u001b[0;36mUnetModel._run_3D\u001b[1;34m(self, imgs, rsz, anisotropy, net_avg, augment, tile, tile_overlap, bsize, progress)\u001b[0m\n\u001b[0;32m    619\u001b[0m \u001b[38;5;66;03m# rescale image for flow computation\u001b[39;00m\n\u001b[0;32m    620\u001b[0m shape \u001b[38;5;241m=\u001b[39m xsl\u001b[38;5;241m.\u001b[39mshape\n\u001b[1;32m--> 621\u001b[0m xsl \u001b[38;5;241m=\u001b[39m \u001b[43mtransforms\u001b[49m\u001b[38;5;241;43m.\u001b[39;49m\u001b[43mresize_image\u001b[49m\u001b[43m(\u001b[49m\u001b[43mxsl\u001b[49m\u001b[43m,\u001b[49m\u001b[43m \u001b[49m\u001b[43mrsz\u001b[49m\u001b[38;5;241;43m=\u001b[39;49m\u001b[43mrescaling\u001b[49m\u001b[43m[\u001b[49m\u001b[43mp\u001b[49m\u001b[43m]\u001b[49m\u001b[43m)\u001b[49m  \n\u001b[0;32m    622\u001b[0m \u001b[38;5;66;03m# per image\u001b[39;00m\n\u001b[0;32m    623\u001b[0m core_logger\u001b[38;5;241m.\u001b[39minfo(\u001b[38;5;124m'\u001b[39m\u001b[38;5;124mrunning \u001b[39m\u001b[38;5;132;01m%s\u001b[39;00m\u001b[38;5;124m: \u001b[39m\u001b[38;5;132;01m%d\u001b[39;00m\u001b[38;5;124m planes of size (\u001b[39m\u001b[38;5;132;01m%d\u001b[39;00m\u001b[38;5;124m, \u001b[39m\u001b[38;5;132;01m%d\u001b[39;00m\u001b[38;5;124m)\u001b[39m\u001b[38;5;124m'\u001b[39m\u001b[38;5;241m%\u001b[39m(sstr[p], shape[\u001b[38;5;241m0\u001b[39m], shape[\u001b[38;5;241m1\u001b[39m], shape[\u001b[38;5;241m2\u001b[39m]))\n",
      "File \u001b[1;32m~\\anaconda3\\envs\\cellpose\\lib\\site-packages\\cellpose\\transforms.py:558\u001b[0m, in \u001b[0;36mresize_image\u001b[1;34m(img0, Ly, Lx, rsz, interpolation, no_channels)\u001b[0m\n\u001b[0;32m    556\u001b[0m         imgs \u001b[38;5;241m=\u001b[39m np\u001b[38;5;241m.\u001b[39mzeros((img0\u001b[38;5;241m.\u001b[39mshape[\u001b[38;5;241m0\u001b[39m], Ly, Lx, img0\u001b[38;5;241m.\u001b[39mshape[\u001b[38;5;241m-\u001b[39m\u001b[38;5;241m1\u001b[39m]), np\u001b[38;5;241m.\u001b[39mfloat32)\n\u001b[0;32m    557\u001b[0m     \u001b[38;5;28;01mfor\u001b[39;00m i,img \u001b[38;5;129;01min\u001b[39;00m \u001b[38;5;28menumerate\u001b[39m(img0):\n\u001b[1;32m--> 558\u001b[0m         imgs[i] \u001b[38;5;241m=\u001b[39m \u001b[43mcv2\u001b[49m\u001b[38;5;241;43m.\u001b[39;49m\u001b[43mresize\u001b[49m\u001b[43m(\u001b[49m\u001b[43mimg\u001b[49m\u001b[43m,\u001b[49m\u001b[43m \u001b[49m\u001b[43m(\u001b[49m\u001b[43mLx\u001b[49m\u001b[43m,\u001b[49m\u001b[43m \u001b[49m\u001b[43mLy\u001b[49m\u001b[43m)\u001b[49m\u001b[43m,\u001b[49m\u001b[43m \u001b[49m\u001b[43minterpolation\u001b[49m\u001b[38;5;241;43m=\u001b[39;49m\u001b[43minterpolation\u001b[49m\u001b[43m)\u001b[49m\n\u001b[0;32m    559\u001b[0m \u001b[38;5;28;01melse\u001b[39;00m:\n\u001b[0;32m    560\u001b[0m     imgs \u001b[38;5;241m=\u001b[39m cv2\u001b[38;5;241m.\u001b[39mresize(img0, (Lx, Ly), interpolation\u001b[38;5;241m=\u001b[39minterpolation)\n",
      "\u001b[1;31merror\u001b[0m: OpenCV(4.9.0) D:\\a\\opencv-python\\opencv-python\\opencv\\modules\\imgproc\\src\\resize.cpp:4155: error: (-215:Assertion failed) inv_scale_x > 0 in function 'cv::resize'\n"
     ]
    }
   ],
   "source": [
    "import os\n",
    "from cellpose import models, io\n",
    "import skimage.io as skio  # Import scikit-image for saving TIFF files\n",
    "\n",
    "model = models.Cellpose(model_type='cyto2', gpu=True)\n",
    "\n",
    "def cellpose_labeler(folder_path):\n",
    "    for root, dirs, files in os.walk(folder_path):\n",
    "        for directory in dirs:\n",
    "            if directory == 'outputPredicted':\n",
    "                dir_path = os.path.join(root, directory)\n",
    "                for filename in os.listdir(dir_path):\n",
    "                    if filename.endswith('.tif'):\n",
    "                        print(filename)\n",
    "                        x = os.path.join(dir_path, filename)\n",
    "                        print(x)\n",
    "                        img = io.imread(x)\n",
    "                        masks, flows, styles, diams = model.eval(img, diameter=64, channels=None, anisotropy=10, do_3D=True, flow_threshold=0.4, stitch_threshold=0.1, cellprob_threshold=0)\n",
    "                        \n",
    "                        # Save the masks and flows as TIFF using skimage.io. Adjust the file names as needed.\n",
    "                        skio.imsave(os.path.splitext(x)[0] + '_masks.tif', masks)\n",
    "                        \n",
    "#model.eval(x, batch_size=8, channels=None, channel_axis=None, z_axis=None, invert=False, normalize=True, diameter=64.0, do_3D=False, anisotropy=None, net_avg=False, augment=False, tile=True, tile_overlap=0.1, resample=True, interp=True, flow_threshold=0.4, cellprob_threshold=0.0, min_size=15, stitch_threshold=0.1, rescale=None, progress=None, model_loaded=False)\n",
    "\n",
    "# Your folder path\n",
    "folder_path = r\"C:\\Users\\AdaLovelace\\Documents\\Data\\AlvaroTFM-2.5D-option\\AlvaroTFM\"\n",
    "#folder_path = r\"C:\\Users\\titom\\Desktop\\TFM new stuff\\AnalyzingGraph\\models\"\n",
    "cellpose_labeler(folder_path)\n"
   ]
  },
  {
   "cell_type": "markdown",
   "id": "791b3a5c-34bb-4ed5-bc10-2a9d7dc139b5",
   "metadata": {},
   "source": [
    "-esta parte del codigo (cellpose automatico) hay que mejorarla pero la dejamos por un momento y ya lo debuggearemos\n",
    "-una variable llamada \"modelo\" y aniado esta variable al nombre del fichero (imagen). Poner en la parte que hacemos \"# Save the masks and flows as TIFF using skimage.io. Adjust the file names as needed.\"\n",
    "-check what and if does anything \"anisotropi\"\n",
    "\n"
   ]
  },
  {
   "cell_type": "code",
   "execution_count": 56,
   "id": "269b6818-11e7-4404-b582-54e22bb794c1",
   "metadata": {
    "scrolled": true
   },
   "outputs": [],
   "source": [
    "viewer = napari.Viewer()"
   ]
  },
  {
   "cell_type": "markdown",
   "id": "372a0fd4-b4ec-48dc-b111-e3d95fbc5584",
   "metadata": {},
   "source": [
    "### Actual Model Comparer (AMC): To extract the object props of all frames (without using the 2D time laps first, as we dont need it if we are not using Napari to obtain the object probs)"
   ]
  },
  {
   "cell_type": "code",
   "execution_count": 6,
   "id": "0adead43-93b1-48d9-a63a-06b0564faaa8",
   "metadata": {},
   "outputs": [
    {
     "name": "stdout",
     "output_type": "stream",
     "text": [
      ".\\5th_trial_elong\\ToDo\\allimages.983815\\outputPredicted_gt\\WD1.1_17-03_WT_MP_cp_masks.tif\n",
      ".\\5th_trial_elong\\ToDo\\allimages.983815\\outputPredicted_gt\\WD1_15-02_WT_confocalonly_cp_masks.tif\n",
      ".\\5th_trial_elong\\ToDo\\allimages.983815\\outputPredicted_gt\\WD2.1_21-02_WT_confocalonly_cp_masks.tif\n",
      ".\\5th_trial_elong\\ToDo\\allimages.983815\\outputPredicted_gt\\WD2.2_14-03_WT_MP_cp_masks.tif\n",
      ".\\5th_trial_elong\\ToDo\\allimages.983815\\outputPredicted_gt\\WD2.2_21-02_WT_confocalonly_cp_masks.tif\n",
      ".\\5th_trial_elong\\ToDo\\allimages.983815\\outputPredicted_gt\\WD3.2_21-03_WT_MP_cp_masks.tif\n",
      ".\\5th_trial_elong\\ToDo\\v3\\outputPredicted_gt\\WD1.1_17-03_WT_MP_cp_masks.tif\n",
      ".\\5th_trial_elong\\ToDo\\v3\\outputPredicted_gt\\WD1_15-02_WT_confocalonly_cp_masks.tif\n",
      ".\\5th_trial_elong\\ToDo\\v3\\outputPredicted_gt\\WD2.1_21-02_WT_confocalonly_cp_masks.tif\n",
      ".\\5th_trial_elong\\ToDo\\v3\\outputPredicted_gt\\WD2.2_14-03_WT_MP_cp_masks.tif\n",
      ".\\5th_trial_elong\\ToDo\\v3\\outputPredicted_gt\\WD2.2_21-02_WT_confocalonly_cp_masks.tif\n",
      ".\\5th_trial_elong\\ToDo\\v3\\outputPredicted_gt\\WD3.2_21-03_WT_MP_cp_masks.tif\n"
     ]
    }
   ],
   "source": [
    "import os\n",
    "import numpy as np\n",
    "from tifffile import imread\n",
    "\n",
    "from pathlib import Path\n",
    "\n",
    "def load_3d_images(folder_path):\n",
    "    all_images = []\n",
    "    all_filenames = []\n",
    "    all_model_names = []\n",
    "    for root, dirs, files in os.walk(folder_path):\n",
    "        for directory in dirs:\n",
    "            if directory == 'outputPredicted_gt':\n",
    "                dir_path = os.path.join(root, directory)\n",
    "                for filename in os.listdir(dir_path):\n",
    "                    if filename.endswith('masks.tif') and not filename.startswith('C1'):\n",
    "                        all_model_names.append(root)\n",
    "                        x = os.path.join(dir_path, filename)\n",
    "                        \n",
    "                        \n",
    "                        print(x)\n",
    "                        \n",
    "                        # Load the '.tif' image into a NumPy array\n",
    "                        image = imread(x)\n",
    "                        all_images.append(image)\n",
    "                        all_filenames.append(filename)\n",
    "    return all_images, all_filenames, all_model_names  # Stack all images into a 3D NumPy array\n",
    "#folder_path = r\"/media/maryam/Data/Alvaro/transferLearning_Pytorch3DUnet/pythorchJupyterAutomated\"\n",
    "folder_path = '.'\n",
    "all_images, all_filenames, all_model_names = load_3d_images(folder_path)\n"
   ]
  },
  {
   "cell_type": "code",
   "execution_count": 7,
   "id": "d7cf3405-9bd3-40b5-bd9d-dca587b1bf42",
   "metadata": {
    "scrolled": true
   },
   "outputs": [
    {
     "name": "stdout",
     "output_type": "stream",
     "text": [
      "(105, 512, 512)\n",
      "39\n",
      "481\n",
      "(36, 512, 512)\n",
      "63\n",
      "269\n",
      "(38, 512, 512)\n",
      "33\n",
      "318\n",
      "(59, 512, 512)\n",
      "26\n",
      "671\n",
      "(39, 512, 512)\n",
      "38\n",
      "352\n",
      "(60, 512, 512)\n",
      "38\n",
      "417\n",
      "(105, 512, 512)\n",
      "30\n",
      "388\n",
      "(36, 512, 512)\n",
      "65\n",
      "179\n",
      "(38, 512, 512)\n",
      "42\n",
      "119\n",
      "(59, 512, 512)\n",
      "35\n",
      "505\n",
      "(39, 512, 512)\n",
      "46\n",
      "207\n",
      "(60, 512, 512)\n",
      "24\n",
      "406\n"
     ]
    }
   ],
   "source": [
    "import pandas as pd\n",
    "from skimage import measure\n",
    "from datetime import datetime\n",
    "\n",
    "\n",
    "# Assuming 'all_images' contains your 3D image stack loaded from '.tif' files\n",
    "\n",
    "# Create an empty list to store regionprops for each frame\n",
    "all_slices = []\n",
    "summary_info = []\n",
    "\n",
    "for image_index, image in enumerate(all_images):  # Use enumerate to get both index and image\n",
    "    print(image.shape)\n",
    "    region_props_table = pd.DataFrame(columns=[\"Frame\", \"Label\", \"Area\", \"Perimeter\", \"Centroid\"])\n",
    "    \n",
    "    for numFrame in range(image.shape[0]):\n",
    "        current_regionprops = measure.regionprops(image[numFrame, :, :])\n",
    "        \n",
    "        # https://scikit-image.org/docs/stable/api/skimage.measure.html#skimage.measure.regionprops\n",
    "        for object in current_regionprops:\n",
    "            # Extract object properties\n",
    "            label = object.label\n",
    "            area = object.area\n",
    "            perimeter = object.perimeter\n",
    "            #centroid = object.centroid  # Returns (row, column) coordinates\n",
    "            \n",
    "            # Add object properties to the DataFrame\n",
    "            region_props_table = pd.concat([region_props_table, pd.DataFrame([{\n",
    "                \"Frame\": numFrame,\n",
    "                \"Label\": label,\n",
    "                \"Area\": area,\n",
    "                \"Perimeter\": perimeter,\n",
    "            }])], ignore_index=True)\n",
    "\n",
    "\n",
    "    good_cells, bad_cells = select_cells_by_integrity(np.max(region_props_table.Frame), region_props_table.to_numpy(), 95)\n",
    "    print(good_cells)\n",
    "    print(bad_cells)\n",
    "    # Generate a unique filename for each file\n",
    "    # Format the current date and time and include the image index for even more uniqueness\n",
    "    current_time = datetime.now().strftime(\"%m-%d_\") + all_filenames[image_index]\n",
    "    filename = f'output_file_{image_index}_{current_time}.xlsx'\n",
    "\n",
    "    # Save the DataFrame to an Excel file with the unique filename\n",
    "    region_props_table.to_excel(filename, sheet_name='Sheet1', index=False)\n",
    "        \n",
    "    all_slices.append(region_props_table)\n",
    "    \n",
    "    props = measure.regionprops(image)\n",
    "    avg_vol = np.mean([prop.area for prop in props])\n",
    "    std_vol = np.std([prop.area for prop in props])\n",
    "\n",
    "    avg_major_axis = np.mean([prop.axis_major_length for prop in props])\n",
    "    std_major_axis = np.std([prop.axis_major_length for prop in props])\n",
    "\n",
    "    avg_diameter = np.mean([prop.equivalent_diameter_area for prop in props])\n",
    "    std_diameter = np.std([prop.equivalent_diameter_area for prop in props])\n",
    "\n",
    "    avg_euler = np.mean([prop.euler_number for prop in props])\n",
    "    std_euler = np.std([prop.euler_number for prop in props])\n",
    "\n",
    "    avg_extent = np.mean([prop.extent for prop in props])\n",
    "    std_extent = np.std([prop.extent for prop in props])\n",
    "\n",
    "    summary_info.append({\n",
    "        'File Name': filename,\n",
    "        'Good Cells Count': good_cells,\n",
    "        'Bad Cells Count': bad_cells,\n",
    "        'Average Volume' : avg_vol,\n",
    "        'STD Volume' : std_vol,\n",
    "        'Average Major Axis' : avg_major_axis,\n",
    "        'STD Major Axis' : std_major_axis,\n",
    "        'Average Diameter' : avg_diameter,\n",
    "        'STD Diameter' : std_diameter,\n",
    "        'Average Euler' : avg_euler,\n",
    "        'STD Euler' : std_euler,\n",
    "        'Average Extent' : avg_extent,\n",
    "        'STD Extent' : std_extent,\n",
    "    })\n"
   ]
  },
  {
   "cell_type": "code",
   "execution_count": 8,
   "id": "359aeb2f-4227-420a-88a2-e216c685f722",
   "metadata": {},
   "outputs": [
    {
     "name": "stdout",
     "output_type": "stream",
     "text": [
      "Model names missing from summary_df: []\n"
     ]
    }
   ],
   "source": [
    "import pandas as pd\n",
    "import numpy as np\n",
    "\n",
    "# Assuming 'all_model_names' and 'summary_info' are already defined\n",
    "\n",
    "# Convert the summary information to a DataFrame\n",
    "summary_df = pd.DataFrame(summary_info)\n",
    "\n",
    "# Initially, we try to insert 'Model Name', but if it's already there, we skip this step\n",
    "if 'Model Name' not in summary_df.columns:\n",
    "    summary_df.insert(0, 'Model Name', all_model_names[:len(summary_df)])\n",
    "\n",
    "# Calculate the mean of 'Good Cells Count' and 'Bad Cells Count' for each 'Model Name'\n",
    "good_cells_avg = summary_df.groupby('Model Name')['Good Cells Count'].transform('mean')\n",
    "bad_cells_avg = summary_df.groupby('Model Name')['Bad Cells Count'].transform('mean')\n",
    "\n",
    "# Add the calculated averages as new columns to the right side of the DataFrame\n",
    "summary_df['Avg Good Cells'] = good_cells_avg\n",
    "summary_df['Avg Bad Cells'] = bad_cells_avg\n",
    "\n",
    "# Identifying missing model names\n",
    "existing_model_names = set(summary_df['Model Name'])\n",
    "all_model_names_set = set(all_model_names)\n",
    "missing_model_names = list(all_model_names_set - existing_model_names)\n",
    "\n",
    "# Creating DataFrame for missing model names\n",
    "if missing_model_names:\n",
    "    missing_df = pd.DataFrame(missing_model_names, columns=['Model Name'])\n",
    "    # Assuming 'Good Cells Count' and 'Bad Cells Count' are important, we fill them with NaN for missing models\n",
    "    missing_df['Good Cells Count'] = np.nan\n",
    "    missing_df['Bad Cells Count'] = np.nan\n",
    "    # Calculate mean values for the NaN columns if applicable, or set as NaN\n",
    "    missing_df['Avg Good Cells'] = np.nan\n",
    "    missing_df['Avg Bad Cells'] = np.nan\n",
    "    # Append the missing models DataFrame to the original summary_df\n",
    "    summary_df = pd.concat([summary_df, missing_df], ignore_index=True)\n",
    "\n",
    "# Save the updated summary DataFrame to an Excel file\n",
    "summary_df.to_excel('summary_file.xlsx', index=False)\n",
    "\n",
    "# Display missing model names for verification\n",
    "print(\"Model names missing from summary_df:\", missing_model_names)\n"
   ]
  },
  {
   "cell_type": "markdown",
   "id": "eef35857-d22d-4325-9d08-4c84df7ddd44",
   "metadata": {},
   "source": [
    "# From here onwards a bit messy and still on progress"
   ]
  },
  {
   "cell_type": "code",
   "execution_count": 31,
   "id": "7dc7dfb9-d72b-4b7e-a9d4-210856056b18",
   "metadata": {},
   "outputs": [],
   "source": [
    "region_props_array = region_props_table.to_numpy()\n"
   ]
  },
  {
   "cell_type": "markdown",
   "id": "136161f9-9d8e-406f-89bf-f3d58243d7bf",
   "metadata": {},
   "source": [
    "### 1) Load the raw image to Napari\n",
    "### 2) Load the labels to Napari (if you dont have your predictions as layers, do the \"Extra step\")\n",
    "### 3) Convert to the raw image into 2D timelapse using using the plugin \"Convert to 2D timelapse\"\n",
    "### 4) Convert to the labels into 2D timelapse using using the plugin \"Convert to 2D timelapse\"\n",
    "### 5) Use the tool named \"regionprops of all frames\" and REMEMBER to use the 2D images (that will create a table with much data, you just have to leave that table as is, and continue running this code)\n",
    "\n",
    "\n",
    "#### Extra step) Open cellpose y hacer \"label segmentations\""
   ]
  },
  {
   "cell_type": "code",
   "execution_count": 46,
   "id": "cf46399b-4f43-4e10-866b-9b468d3b6699",
   "metadata": {},
   "outputs": [
    {
     "name": "stdout",
     "output_type": "stream",
     "text": [
      "58\n",
      "[[0 1 418.0 90.87005768508881 nan]\n",
      " [0 2 1102.0 131.88225099390857 nan]\n",
      " [0 3 382.0 79.18376618407358 nan]\n",
      " ...\n",
      " [58 633 841.0 122.94722215136416 nan]\n",
      " [58 634 890.0 144.91168824543144 nan]\n",
      " [58 635 1131.0 134.5269119345812 nan]]\n"
     ]
    }
   ],
   "source": [
    "print(np.max(region_props_table.Frame))\n",
    "print(region_props_table.to_numpy())"
   ]
  },
  {
   "cell_type": "code",
   "execution_count": 44,
   "id": "7a26f095-bff8-4bd9-b81c-a6f30d99f132",
   "metadata": {
    "scrolled": true
   },
   "outputs": [
    {
     "name": "stdout",
     "output_type": "stream",
     "text": [
      "\"Good\" labels in dataset = 5878\n",
      "\"Bad\" labels in dataset = 19\n",
      "Percentage of \"good\" labels in dataset = 81.9 %\n",
      "Percentage of \"bad\" labels in dataset = 0.3 %\n"
     ]
    }
   ],
   "source": [
    "#ESTE CODIGO ES EL QUE QUEREMOS QUE FUNCIONE, PERO NO ENTIENDO PORQUE NO LO HACE\n",
    "\n",
    "# extract both \"good\" (present in at least 85% planes) and \"bad\" (present in fewer than 15% planes) cell labels  \n",
    "#labels_layer = viewer.layers[3] #CHANGE EVERY TIME TO THE 2D LABEL\n",
    "#image_layer = viewer.layers[2] #CHANGE EVERY TIME TO THE 2D RAW IMAGE\n",
    "\n",
    "good_cells = select_cells_by_integrity(np.max(region_props_table.Frame), region_props_table.to_numpy(), 95, 'good')\n",
    "#good_ids = [x[0] for x in good_cells]\n",
    "#good_labels = select_labels_stack(region_props_table.to_numpy(), good_ids)\n",
    "\n",
    "bad_cells = select_cells_by_integrity(np.max(region_props_table.Frame), region_props_table.to_numpy(), 5, 'bad')\n",
    "#bad_ids = [x[0] for x in bad_cells]\n",
    "#bad_labels = select_labels_stack(region_props_table, bad_ids)\n",
    "\n",
    "print('\"Good\" labels in dataset =',(len(good_cells)))\n",
    "print('\"Bad\" labels in dataset =',(len(bad_cells)))\n",
    "\n",
    "print('Percentage of \"good\" labels in dataset =',round((len(good_cells)/len(region_props_table))*100,1),'%')\n",
    "print('Percentage of \"bad\" labels in dataset =',round((len(bad_cells)/len(region_props_table))*100,1),'%')"
   ]
  },
  {
   "cell_type": "code",
   "execution_count": 41,
   "id": "55b1f4eb-b84a-41a0-aeeb-73c478ab7cff",
   "metadata": {},
   "outputs": [
    {
     "name": "stdout",
     "output_type": "stream",
     "text": [
      "\"Good\" labels in dataset = 300\n",
      "\"Bad\" labels in dataset = 0\n"
     ]
    }
   ],
   "source": [
    "print('\"Good\" labels in dataset =',(len(good_cells)))\n",
    "print('\"Bad\" labels in dataset =',(len(bad_cells)))"
   ]
  },
  {
   "cell_type": "code",
   "execution_count": 10,
   "id": "99179036-2b9a-4981-8287-24aab66a0581",
   "metadata": {},
   "outputs": [
    {
     "data": {
      "text/plain": [
       "<Labels layer 'bad cells' at 0x20767215150>"
      ]
     },
     "execution_count": 10,
     "metadata": {},
     "output_type": "execute_result"
    }
   ],
   "source": [
    "# add the new labels to the viewer\n",
    "viewer.add_labels((np.array(good_labels)), name='good cells')\n",
    "viewer.add_labels((np.array(bad_labels)), name='bad cells')"
   ]
  },
  {
   "cell_type": "code",
   "execution_count": 15,
   "id": "40deb9ad-edc6-44d1-96fe-d7735c165f88",
   "metadata": {},
   "outputs": [
    {
     "ename": "AttributeError",
     "evalue": "'list' object has no attribute 'shape'",
     "output_type": "error",
     "traceback": [
      "\u001b[1;31m---------------------------------------------------------------------------\u001b[0m",
      "\u001b[1;31mAttributeError\u001b[0m                            Traceback (most recent call last)",
      "Cell \u001b[1;32mIn[15], line 3\u001b[0m\n\u001b[0;32m      1\u001b[0m \u001b[38;5;66;03m# Note: if labels need to be 3D instead of timelapse they can be reshaped\u001b[39;00m\n\u001b[0;32m      2\u001b[0m label \u001b[38;5;241m=\u001b[39m good_labels\n\u001b[1;32m----> 3\u001b[0m label_3d \u001b[38;5;241m=\u001b[39m np\u001b[38;5;241m.\u001b[39mreshape(label, (label\u001b[38;5;241m.\u001b[39mshape[\u001b[38;5;241m1\u001b[39m], label\u001b[38;5;241m.\u001b[39mshape[\u001b[38;5;241m0\u001b[39m], label\u001b[38;5;241m.\u001b[39mshape[\u001b[38;5;241m2\u001b[39m], label\u001b[38;5;241m.\u001b[39mshape[\u001b[38;5;241m3\u001b[39m]))\n",
      "\u001b[1;31mAttributeError\u001b[0m: 'list' object has no attribute 'shape'"
     ]
    }
   ],
   "source": [
    "# Note: if labels need to be 3D instead of timelapse they can be reshaped\n",
    "label = good_labels\n",
    "label_3d = np.reshape(label, (label.shape[1], label.shape[0], label.shape[2], label.shape[3])) "
   ]
  }
 ],
 "metadata": {
  "kernelspec": {
   "display_name": "Python 3 (ipykernel)",
   "language": "python",
   "name": "python3"
  },
  "language_info": {
   "codemirror_mode": {
    "name": "ipython",
    "version": 3
   },
   "file_extension": ".py",
   "mimetype": "text/x-python",
   "name": "python",
   "nbconvert_exporter": "python",
   "pygments_lexer": "ipython3",
   "version": "3.11.4"
  }
 },
 "nbformat": 4,
 "nbformat_minor": 5
}
